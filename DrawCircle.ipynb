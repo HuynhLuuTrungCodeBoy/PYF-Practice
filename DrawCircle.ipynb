{
 "cells": [
  {
   "cell_type": "code",
   "execution_count": 1,
   "id": "cf9c8367-83d5-4bab-852a-ec15009d6967",
   "metadata": {},
   "outputs": [
    {
     "data": {
      "text/plain": [
       "<function turtle.mainloop()>"
      ]
     },
     "execution_count": 1,
     "metadata": {},
     "output_type": "execute_result"
    }
   ],
   "source": [
    "#Thêm module Turtle để hỗ trợ vẽ\n",
    "import turtle\n",
    "#Sửa nét vẽ là 5 điểm\n",
    "turtle.pensize(5)\n",
    "#Chọn màu nét vẽ là màu đỏ\n",
    "turtle.pencolor(\"red\")\n",
    "#Chọn màu nền của hình là màu xanh dương\n",
    "turtle.fillcolor(\"blue\")\n",
    "#Vẽ hình tròn có bán kính là 100 điểm\n",
    "turtle.begin_fill()\n",
    "turtle.circle(100) #Lệnh chính vẽ hình tròn bán kính 100 điểm\n",
    "turtle.end_fill()\n",
    "# Đợi người dùng đóng cửa sổ Turtle Graphics\n",
    "turtle.done"
   ]
  }
 ],
 "metadata": {
  "kernelspec": {
   "display_name": "Python 3 (ipykernel)",
   "language": "python",
   "name": "python3"
  },
  "language_info": {
   "codemirror_mode": {
    "name": "ipython",
    "version": 3
   },
   "file_extension": ".py",
   "mimetype": "text/x-python",
   "name": "python",
   "nbconvert_exporter": "python",
   "pygments_lexer": "ipython3",
   "version": "3.11.3"
  }
 },
 "nbformat": 4,
 "nbformat_minor": 5
}
