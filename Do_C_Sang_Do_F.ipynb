{
 "cells": [
  {
   "cell_type": "code",
   "execution_count": 1,
   "id": "066a9747-49aa-4cad-9060-d6cf928ec010",
   "metadata": {},
   "outputs": [
    {
     "name": "stdin",
     "output_type": "stream",
     "text": [
      "Mời bạn nhập độ C (chỉ nhập số):  100\n"
     ]
    },
    {
     "name": "stdout",
     "output_type": "stream",
     "text": [
      "Độ C là 100.0 thì độ F là 212.0\n"
     ]
    }
   ],
   "source": [
    "do_C=float(input(\"Mời bạn nhập độ C (chỉ nhập số): \"))\n",
    "do_F= do_C * 1.8  +  32\n",
    "print(f\"Độ C là {do_C} thì độ F là {do_F}\")"
   ]
  }
 ],
 "metadata": {
  "kernelspec": {
   "display_name": "Python 3 (ipykernel)",
   "language": "python",
   "name": "python3"
  },
  "language_info": {
   "codemirror_mode": {
    "name": "ipython",
    "version": 3
   },
   "file_extension": ".py",
   "mimetype": "text/x-python",
   "name": "python",
   "nbconvert_exporter": "python",
   "pygments_lexer": "ipython3",
   "version": "3.11.3"
  }
 },
 "nbformat": 4,
 "nbformat_minor": 5
}
