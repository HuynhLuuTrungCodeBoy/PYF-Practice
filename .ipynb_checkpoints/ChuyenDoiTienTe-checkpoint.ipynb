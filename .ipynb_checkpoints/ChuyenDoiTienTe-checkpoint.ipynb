{
 "cells": [
  {
   "cell_type": "code",
   "execution_count": 1,
   "id": "37c6d4ab-090b-4599-aa54-2472d450acc0",
   "metadata": {},
   "outputs": [
    {
     "name": "stdin",
     "output_type": "stream",
     "text": [
      "Nhập số tiền USD cần chuyển sang tiền VND:  1000\n",
      "1 USD là bao nhiêu tiền VND:  25380\n"
     ]
    },
    {
     "name": "stdout",
     "output_type": "stream",
     "text": [
      "1000.0 USD bằng 25380000.0 VND.\n"
     ]
    }
   ],
   "source": [
    "TienUSD=float(input(\"Nhập số tiền USD cần chuyển sang tiền VND: \"))\n",
    "TiGiaUSDVND=float(input(\"1 USD là bao nhiêu tiền VND: \"))\n",
    "TienVND=TienUSD*TiGiaUSDVND\n",
    "print(f\"{TienUSD} USD bằng {TienVND} VND.\")"
   ]
  }
 ],
 "metadata": {
  "kernelspec": {
   "display_name": "Python 3 (ipykernel)",
   "language": "python",
   "name": "python3"
  },
  "language_info": {
   "codemirror_mode": {
    "name": "ipython",
    "version": 3
   },
   "file_extension": ".py",
   "mimetype": "text/x-python",
   "name": "python",
   "nbconvert_exporter": "python",
   "pygments_lexer": "ipython3",
   "version": "3.11.3"
  }
 },
 "nbformat": 4,
 "nbformat_minor": 5
}
