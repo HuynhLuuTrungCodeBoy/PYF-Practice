{
 "cells": [
  {
   "cell_type": "code",
   "execution_count": 1,
   "id": "0728e111-e146-4d9f-884f-e1674f344575",
   "metadata": {},
   "outputs": [],
   "source": [
    "# Thêm thư viện\n",
    "import turtle\n",
    "\n",
    "nha=turtle.Turtle() # Tạo một đối tượng rùa mới là nha\n",
    "nha.color(\"Blue\") # Chọn màu bút\n",
    "nha.pensize(3) # Chọn cỡ bút\n",
    "nha.penup() # Nhấc bút lên\n",
    "nha.goto(-100, 100) # Di chuyển đến vị trí cần vẽ\n",
    "nha.pendown() # Hạ bút xuống\n",
    "nha.circle(-70, steps=3) # vẽ tam giác đều\n",
    "turtle.done() # Kết thúc chương trình khi nhấp chuột vào cửa sổ đồ họa\n"
   ]
  }
 ],
 "metadata": {
  "kernelspec": {
   "display_name": "Python 3 (ipykernel)",
   "language": "python",
   "name": "python3"
  },
  "language_info": {
   "codemirror_mode": {
    "name": "ipython",
    "version": 3
   },
   "file_extension": ".py",
   "mimetype": "text/x-python",
   "name": "python",
   "nbconvert_exporter": "python",
   "pygments_lexer": "ipython3",
   "version": "3.11.3"
  }
 },
 "nbformat": 4,
 "nbformat_minor": 5
}
