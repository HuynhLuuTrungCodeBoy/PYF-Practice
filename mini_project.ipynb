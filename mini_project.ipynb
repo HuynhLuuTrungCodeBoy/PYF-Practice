{
 "cells": [
  {
   "cell_type": "markdown",
   "id": "95d093c6-e2e0-43ba-9861-1b651ebe9685",
   "metadata": {},
   "source": [
    "# <span style='color:red'>I.  THIẾT KẾ GIAO DIỆN VỚI TKINTER</span>"
   ]
  },
  {
   "cell_type": "markdown",
   "id": "0cfc7a64-30ef-4323-8a12-1da0d5d73563",
   "metadata": {},
   "source": [
    "## <span style='color:green'>Phác thảo hình dáng giao diện dựa trên nhiệm vụ phải thực hiện</span>\n",
    "### Ví dụ:"
   ]
  },
  {
   "attachments": {
    "9e3d55f4-59d9-4e1a-ab46-5379f66db0c5.png": {
     "image/png": "[encoded data removed]"
    }
   },
   "cell_type": "markdown",
   "id": "83733736-bc98-4899-a666-0d436fc59127",
   "metadata": {},
   "source": [
    "![image.png](attachment:9e3d55f4-59d9-4e1a-ab46-5379f66db0c5.png)"
   ]
  },
  {
   "cell_type": "markdown",
   "id": "252b53f5-90ca-46b8-9b60-31bb809f8b09",
   "metadata": {},
   "source": [
    "### Mô tả:\n",
    "Phần chính của cửa sổ sẽ là 1 lưới gồm 4 dòng 3 cột, chứa 2 label(00 10),3 entry(01 11 30), 5 button(màu xanh chữ trắng).\n",
    ">* <B>Dòng 0:</B>\n",
    ">>* <B>Cột 0:</B> Label Name làm nhiệm vụ thông báo ý nghĩa cho Entry Name. \n",
    ">>* <B>Cột 1:</B> Entry Name làm nhiệm vụ <span style=\"color: red\">nhận tên sản phẩm</span> do người dùng nhập vào.\n",
    ">>* <B>Cột 2:</B> \n",
    ">* <B>Dòng 1:</B>\n",
    ">>* <B>Cột 0:</B> Label Quantity làm nhiệm vụ thông báo ý nghĩa cho Entry Quantity.\n",
    ">>* <B>Cột 1:</B> Entry Quantity làm nhiệm vụ <span style=\"color: red\">nhận số lượng sản phẩm</span> do người dùng nhập vào.\n",
    ">>* <B>Cột 2:</B> \n",
    ">* <B>Dòng 2:</B>\n",
    ">>* <B>Cột 0:</B> Button Add kích hoạt python thêm dữ liệu từ Entry Name và Entry Quantity vào.\n",
    ">>* <B>Cột 1:</B> Button Delete kích hoạt python xóa dữ liệu từ Entry Search do người dùng nhập vào (điều kiện vào từ Entry Search).\n",
    ">>* <B>Cột 2:</B> Button Reset kích hoạt python xóa toàn bộ dữ liệu có sẵn (Không cần điều kiện đầu vào).\n",
    ">* <B>Dòng 3:</B>\n",
    ">>* <B>Cột 0:</B> Entry Search dùng <span style=\"color: red\">lấy điều kiện</span> để Delete (xóa) hoặc Search (tìm kiếm)\n",
    ">>* <B>Cột 1:</B> Button Search để tìm kiếm theo yêu cầu được nhập từ người dùng vào Entry Search.\n",
    ">>* <B>Cột 2:</B> Button Update để sửa đổi dữ liệu đã có."
   ]
  },
  {
   "cell_type": "markdown",
   "id": "c1ad6696-b806-415e-be39-bc5a5e1ab955",
   "metadata": {},
   "source": [
    "## <span style='color:green'>Tạo cửa sổ chính</span>\n",
    "### Sau khi khởi tạo xong, bạn hãy cho chạy thử để xem kết quả"
   ]
  },
  {
   "cell_type": "code",
   "execution_count": 16,
   "id": "30f3d812-7f53-456c-926d-8e06bb17014a",
   "metadata": {},
   "outputs": [],
   "source": [
    "#Thêm module hỗ trợ\n",
    "import tkinter as tk\n",
    "from tkinter import messagebox\n",
    "# Khởi tạo biến chứa cửa sổ (dưới đây window là tên biến)\n",
    "window=tk.Tk()\n",
    "\n",
    "# Bắt đầu vòng lặp sự kiện\n",
    "window.mainloop()"
   ]
  },
  {
   "attachments": {
    "ef720cf5-3e8f-4f9c-bd3c-b5eb0a99e714.png": {
     "image/png": "[encoded data removed]"
    }
   },
   "cell_type": "markdown",
   "id": "f8a8b519-0ad2-4f45-8207-6085ac5a71b1",
   "metadata": {},
   "source": [
    "### Kết quả:\n",
    "\n",
    "![image.png](attachment:ef720cf5-3e8f-4f9c-bd3c-b5eb0a99e714.png)"
   ]
  },
  {
   "cell_type": "markdown",
   "id": "1cce1857-f4a5-44c3-b7cb-13607ab37c30",
   "metadata": {},
   "source": [
    "## <span style='color:green'>Thiết kế cửa sổ chính</span>\n",
    "### Sau khi khởi tạo xong, bạn hãy cho chạy thử để xem kết quả"
   ]
  },
  {
   "cell_type": "code",
   "execution_count": 36,
   "id": "0375da6f-8151-4fd2-be9b-76cb0f6784a8",
   "metadata": {},
   "outputs": [],
   "source": [
    "#Thêm module hỗ trợ\n",
    "import tkinter as tk\n",
    "from tkinter import messagebox\n",
    "# Khởi tạo biến chứa cửa sổ chính, dưới đây window là tên biến (có thể đổi tên khác tùy thích,root chẳn hạn, vietnam chẳn hạn.)\n",
    "window=tk.Tk()\n",
    "################## Bắt đầu thiết kế cửa sổ \n",
    "window.title(\"Ingredients Management System\") #Tạo tiêu đề cho cửa sổ\n",
    "window.geometry(\"350x150+400+200\")# Cửa sổ ngang 350 pixel, cao 150 pixel, cách trái 400 pixel, cách trên 200 pixel.\n",
    "window.configure(background=\"dark green\")# đặt nền của window là màu xanh lá - đậm. (light - sáng)\n",
    "window.resizable(width=False,height=False)# không cho thay đổi kích thước cửa sổ\n",
    "################## Kết thúc thiết kế cửa sổ \n",
    "\n",
    "# Bắt đầu vòng lặp sự kiện\n",
    "window.mainloop()"
   ]
  },
  {
   "attachments": {
    "2d3b1e79-ceb2-4802-9cc1-fcf4255a0f0e.png": {
     "image/png": "[encoded data removed]"
    }
   },
   "cell_type": "markdown",
   "id": "6001438c-7731-4fda-af56-06818e71ba61",
   "metadata": {},
   "source": [
    "### Kết quả:\n",
    "\n",
    "![image.png](attachment:2d3b1e79-ceb2-4802-9cc1-fcf4255a0f0e.png)"
   ]
  },
  {
   "cell_type": "markdown",
   "id": "dd3b5e41-453f-4a56-aa79-e213a3bdf1b9",
   "metadata": {},
   "source": [
    "## <span style='color:green'>Thiết kế label</span>\n",
    "### Sau khi khởi tạo xong, bạn hãy cho chạy thử để xem kết quả"
   ]
  },
  {
   "cell_type": "code",
   "execution_count": 60,
   "id": "28d7bc77-617d-4708-a811-0e57aea6cd54",
   "metadata": {},
   "outputs": [],
   "source": [
    "#Thêm module hỗ trợ\n",
    "import tkinter as tk\n",
    "from tkinter import messagebox\n",
    "# Khởi tạo biến chứa cửa sổ chính, dưới đây window là tên biến (có thể đổi tên khác tùy thích,root chẳn hạn, vietnam chẳn hạn.)\n",
    "window=tk.Tk()\n",
    "\n",
    "################## Bắt đầu thiết kế cửa sổ \n",
    "window.title(\"Ingredients Management System\") #Tạo tiêu đề cho cửa sổ\n",
    "window.geometry(\"350x150+400+200\")# Cửa sổ ngang 350 pixel, cao 150 pixel, cách trái 400 pixel, cách trên 200 pixel.\n",
    "window.configure(background=\"dark green\")# đặt nền của window là màu xanh lá - đậm. (light - sáng)\n",
    "window.resizable(width=False,height=False)# không cho thay đổi kích thước cửa sổ\n",
    "################## Kết thúc thiết kế cửa sổ \n",
    "\n",
    "################## Bắt đầu thiết kế label\n",
    "'''Thiết kế label gồm 2 bước: \n",
    "    bước1: tạo label\n",
    "    bước2: đưa label lên cửa sổ bằng'''\n",
    "lbl_name=tk.Label(window,text=\"Name:\",width=10,bg=\"cyan\") #Tạo 1 widget là label có nhãn là Name, lưu vào biến lbl_name\n",
    "lbl_name.grid(row=0,column=0,padx=10,pady=10) # Đưa widget lbl_name lên lưới tại tọa độ như mô tả ở đầu bài. CHÚ Ý LỆNH NÀY (PADx PADy)\n",
    "\n",
    "lbl_quantity=tk.Label(window,text=\"Quantity:\",width=10,bg=\"cyan\") #Tạo 1 widget là label có nhãn là Quantity, lưu vào biến lbl_quantity\n",
    "lbl_quantity.grid(row=1,column=0) # Đưa widget lbl_quantity lên lưới tại tọa độ như mô tả ở đầu bài.\n",
    "################## Kết thúc thiết kế label\n",
    "\n",
    "# Bắt đầu vòng lặp sự kiện\n",
    "window.mainloop()"
   ]
  },
  {
   "attachments": {
    "10ade6a2-f406-4aae-9ef1-63701821fc14.png": {
     "image/png": "[encoded data removed]"
    }
   },
   "cell_type": "markdown",
   "id": "57cda64e-2e45-461b-a7bb-0ae453d4d998",
   "metadata": {},
   "source": [
    "### Kết quả:\n",
    "\n",
    "![image.png](attachment:10ade6a2-f406-4aae-9ef1-63701821fc14.png)"
   ]
  },
  {
   "cell_type": "markdown",
   "id": "66ab2111-7f24-4510-9a42-f0364cd2476f",
   "metadata": {},
   "source": [
    "## <span style='color:green'>Thiết kế Entry</span>\n",
    "### Sau khi khởi tạo xong, bạn hãy cho chạy thử để xem kết quả"
   ]
  },
  {
   "cell_type": "code",
   "execution_count": 65,
   "id": "aca7ac7b-8b4a-4a92-a659-7579827e4e9f",
   "metadata": {},
   "outputs": [],
   "source": [
    "#Thêm module hỗ trợ\n",
    "import tkinter as tk\n",
    "from tkinter import messagebox\n",
    "# Khởi tạo biến chứa cửa sổ chính, dưới đây window là tên biến (có thể đổi tên khác tùy thích,root chẳn hạn, vietnam chẳn hạn.)\n",
    "window=tk.Tk()\n",
    "#------------------------------------------------------------------------------------------------------------------------------------------------\n",
    "################## Bắt đầu thiết kế cửa sổ \n",
    "window.title(\"Ingredients Management System\") #Tạo tiêu đề cho cửa sổ\n",
    "window.geometry(\"350x150+400+200\")# Cửa sổ ngang 350 pixel, cao 150 pixel, cách trái 400 pixel, cách trên 200 pixel.\n",
    "window.configure(background=\"dark green\")# đặt nền của window là màu xanh lá - đậm. (light - sáng)\n",
    "window.resizable(width=False,height=False)# không cho thay đổi kích thước cửa sổ\n",
    "################## Kết thúc thiết kế cửa sổ \n",
    "#------------------------------------------------------------------------------------------------------------------------------------------------\n",
    "################## Bắt đầu thiết kế label\n",
    "'''Thiết kế label gồm 2 bước: \n",
    "    bước1: tạo label\n",
    "    bước2: đưa label lên cửa sổ bằng'''\n",
    "lbl_name=tk.Label(window,text=\"Name:\",width=10,bg=\"cyan\") #Tạo 1 widget là label có nhãn là Name, lưu vào biến lbl_name\n",
    "lbl_name.grid(row=0,column=0,padx=10,pady=10) # Đưa widget lbl_name lên lưới tại tọa độ như mô tả ở đầu bài. CHÚ Ý LỆNH NÀY (PADx PADy)\n",
    "\n",
    "lbl_quantity=tk.Label(window,text=\"Quantity:\",width=10,bg=\"cyan\") #Tạo 1 widget là label có nhãn là Quantity, lưu vào biến lbl_quantity\n",
    "lbl_quantity.grid(row=1,column=0) # Đưa widget lbl_quantity lên lưới tại tọa độ như mô tả ở đầu bài.\n",
    "################## Kết thúc thiết kế label\n",
    "#------------------------------------------------------------------------------------------------------------------------------------------------\n",
    "################## Bắt đầu thiết kế Entry\n",
    "ent_name=tk.Entry(window,bg=\"light green\")\n",
    "ent_name.grid(row=0,column=1)\n",
    "\n",
    "ent_quantity=tk.Entry(window,bg=\"light green\")\n",
    "ent_quantity.grid(row=1,column=1)\n",
    "\n",
    "ent_search=tk.Entry(window)\n",
    "ent_search.grid(row=3,column=0)\n",
    "################## Kết thúc thiết kế Entry\n",
    "#------------------------------------------------------------------------------------------------------------------------------------------------\n",
    "# Bắt đầu vòng lặp sự kiện\n",
    "window.mainloop()"
   ]
  },
  {
   "attachments": {
    "2ca2454c-ceca-41cf-a602-8c874f543028.png": {
     "image/png": "[encoded data removed]"
    }
   },
   "cell_type": "markdown",
   "id": "787ce82b-4296-44dd-bc65-51eb00828121",
   "metadata": {},
   "source": [
    "### Kết quả:\n",
    "\n",
    "![image.png](attachment:2ca2454c-ceca-41cf-a602-8c874f543028.png)"
   ]
  },
  {
   "cell_type": "markdown",
   "id": "ac5707fe-3376-463a-9d1d-2069fc8d5ed7",
   "metadata": {},
   "source": [
    "## <span style='color:green'>Thiết kế Button</span>\n",
    "### Sau khi khởi tạo xong, bạn hãy cho chạy thử để xem kết quả"
   ]
  },
  {
   "cell_type": "code",
   "execution_count": 88,
   "id": "3589b0e1-f3a1-456a-aa84-71172d53c884",
   "metadata": {},
   "outputs": [],
   "source": [
    "#Thêm module hỗ trợ\n",
    "import tkinter as tk\n",
    "from tkinter import messagebox\n",
    "# Khởi tạo biến chứa cửa sổ chính, dưới đây window là tên biến (có thể đổi tên khác tùy thích,root chẳn hạn, vietnam chẳn hạn.)\n",
    "window=tk.Tk()\n",
    "#------------------------------------------------------------------------------------------------------------------------------------------------\n",
    "################## Bắt đầu thiết kế cửa sổ \n",
    "window.title(\"Ingredients Management System\") #Tạo tiêu đề cho cửa sổ\n",
    "window.geometry(\"350x150+400+200\")# Cửa sổ ngang 350 pixel, cao 150 pixel, cách trái 400 pixel, cách trên 200 pixel.\n",
    "window.configure(background=\"dark green\")# đặt nền của window là màu xanh lá - đậm. (light - sáng)\n",
    "window.resizable(width=False,height=False)# không cho thay đổi kích thước cửa sổ\n",
    "################## Kết thúc thiết kế cửa sổ \n",
    "#------------------------------------------------------------------------------------------------------------------------------------------------\n",
    "################## Bắt đầu thiết kế label\n",
    "'''Thiết kế label gồm 2 bước: \n",
    "    bước1: tạo label\n",
    "    bước2: đưa label lên cửa sổ bằng'''\n",
    "d=5\n",
    "lbl_name=tk.Label(window,text=\"Name:\",width=10,bg=\"cyan\") #Tạo 1 widget là label có nhãn là Name, lưu vào biến lbl_name\n",
    "lbl_name.grid(row=0,column=0,padx=d,pady=d,sticky=\"E\") # Đưa widget lbl_name lên lưới tại tọa độ như mô tả ở đầu bài. CHÚ Ý LỆNH NÀY (PADx PADy)\n",
    "\n",
    "lbl_quantity=tk.Label(window,text=\"Quantity:\",width=10,bg=\"cyan\") #Tạo 1 widget là label có nhãn là Quantity, lưu vào biến lbl_quantity\n",
    "lbl_quantity.grid(row=1,column=0,padx=d,pady=d,sticky=\"E\") # Đưa widget lbl_quantity lên lưới tại tọa độ như mô tả ở đầu bài.\n",
    "################## Kết thúc thiết kế label\n",
    "#------------------------------------------------------------------------------------------------------------------------------------------------\n",
    "################## Bắt đầu thiết kế Entry\n",
    "ent_name=tk.Entry(window,bg=\"light green\")\n",
    "ent_name.grid(row=0,column=1,padx=0,pady=d)\n",
    "\n",
    "ent_quantity=tk.Entry(window,bg=\"light green\")\n",
    "ent_quantity.grid(row=1,column=1,padx=0,pady=d)\n",
    "\n",
    "ent_search=tk.Entry(window)\n",
    "ent_search.grid(row=3,column=0,padx=d,pady=d)\n",
    "################## Kết thúc thiết kế Entry\n",
    "#------------------------------------------------------------------------------------------------------------------------------------------------\n",
    "################## Bắt đầu thiết kế Button\n",
    "btn_add=tk.Button(window,text=\"Add\",bg=\"pink\",width=6)\n",
    "btn_add.grid(row=2,column=0,padx=d,pady=d,sticky=\"E\") # căn sát lề phải trong 1 cell của grid\n",
    "\n",
    "btn_delete=tk.Button(window,text=\"Delete\",bg=\"pink\",width=6)\n",
    "btn_delete.grid(row=2,column=1,padx=d,pady=d)\n",
    "\n",
    "btn_search=tk.Button(window,text=\"Search\",bg=\"pink\",width=6)\n",
    "btn_search.grid(row=3,column=1,padx=d,pady=d)\n",
    "\n",
    "btn_reset=tk.Button(window,text=\"Reset\",bg=\"pink\",width=6)\n",
    "btn_reset.grid(row=2,column=2,padx=d,pady=d)\n",
    "\n",
    "btn_update=tk.Button(window,text=\"Update\",bg=\"pink\",width=6)\n",
    "btn_update.grid(row=3,column=2,padx=d,pady=d)\n",
    "################## Kết thúc thiết kế Button\n",
    "#------------------------------------------------------------------------------------------------------------------------------------------------\n",
    "# Bắt đầu vòng lặp sự kiện\n",
    "window.mainloop()"
   ]
  },
  {
   "attachments": {
    "c19cd4e3-ba5d-4ab9-82f9-4966609738e0.png": {
     "image/png": "[encoded data removed]"
    }
   },
   "cell_type": "markdown",
   "id": "3dec79df-2069-488c-a53c-d95d96d55e83",
   "metadata": {},
   "source": [
    "### Kết quả:\n",
    "\n",
    "![image.png](attachment:c19cd4e3-ba5d-4ab9-82f9-4966609738e0.png)"
   ]
  },
  {
   "cell_type": "markdown",
   "id": "704d1bb2-b02c-48a1-9b06-ac56c369c555",
   "metadata": {},
   "source": [
    "## <span style='color:green'>Tinh chỉnh lại các thiết kế</span>\n",
    "##### Thay đổi width của window.geometry\n",
    "##### Thay đổi vị trí của nút lệnh button (pink color)\n",
    "### Sau khi khởi tạo xong, bạn hãy cho chạy thử để xem kết quả"
   ]
  },
  {
   "cell_type": "code",
   "execution_count": 97,
   "id": "3aad9db4-091a-4171-a4bf-b4311c82bb80",
   "metadata": {},
   "outputs": [],
   "source": [
    "#Thêm module hỗ trợ\n",
    "import tkinter as tk\n",
    "from tkinter import messagebox\n",
    "# Khởi tạo biến chứa cửa sổ chính, dưới đây window là tên biến (có thể đổi tên khác tùy thích,root chẳn hạn, vietnam chẳn hạn.)\n",
    "window=tk.Tk()\n",
    "#------------------------------------------------------------------------------------------------------------------------------------------------\n",
    "################## Bắt đầu thiết kế cửa sổ \n",
    "window.title(\"Ingredients Management System\") #Tạo tiêu đề cho cửa sổ\n",
    "window.geometry(\"300x150+500+200\")# Cửa sổ ngang 300 pixel, cao 150 pixel, cách trái 500 pixel, cách trên 200 pixel.\n",
    "window.configure(background=\"dark green\")# đặt nền của window là màu xanh lá - đậm. (light - sáng)\n",
    "window.resizable(width=False,height=False)# không cho thay đổi kích thước cửa sổ\n",
    "################## Kết thúc thiết kế cửa sổ \n",
    "#------------------------------------------------------------------------------------------------------------------------------------------------\n",
    "################## Bắt đầu thiết kế label\n",
    "'''Thiết kế label gồm 2 bước: \n",
    "    bước1: tạo label\n",
    "    bước2: đưa label lên cửa sổ bằng'''\n",
    "d=5\n",
    "lbl_name=tk.Label(window,text=\"Name:\",width=10,bg=\"cyan\") #Tạo 1 widget là label có nhãn là Name, lưu vào biến lbl_name\n",
    "lbl_name.grid(row=0,column=0,padx=d,pady=d,sticky=\"E\") # Đưa widget lbl_name lên lưới tại tọa độ như mô tả ở đầu bài. CHÚ Ý LỆNH NÀY (PADx PADy)\n",
    "\n",
    "lbl_quantity=tk.Label(window,text=\"Quantity:\",width=10,bg=\"cyan\") #Tạo 1 widget là label có nhãn là Quantity, lưu vào biến lbl_quantity\n",
    "lbl_quantity.grid(row=1,column=0,padx=d,pady=d,sticky=\"E\") # Đưa widget lbl_quantity lên lưới tại tọa độ như mô tả ở đầu bài.\n",
    "################## Kết thúc thiết kế label\n",
    "#------------------------------------------------------------------------------------------------------------------------------------------------\n",
    "################## Bắt đầu thiết kế Entry\n",
    "ent_name=tk.Entry(window,bg=\"light green\")\n",
    "ent_name.grid(row=0,column=1,padx=0,pady=d)\n",
    "\n",
    "ent_quantity=tk.Entry(window,bg=\"light green\")\n",
    "ent_quantity.grid(row=1,column=1,padx=0,pady=d)\n",
    "\n",
    "ent_search=tk.Entry(window)\n",
    "ent_search.grid(row=3,column=0,padx=d,pady=d)\n",
    "################## Kết thúc thiết kế Entry\n",
    "#------------------------------------------------------------------------------------------------------------------------------------------------\n",
    "################## Bắt đầu thiết kế Button\n",
    "btn_add=tk.Button(window,text=\"Add\",bg=\"pink\",width=6)\n",
    "btn_add.grid(row=2,column=0,padx=d,pady=d,sticky=\"E\") # căn sát lề phải trong 1 cell của grid\n",
    "\n",
    "btn_delete=tk.Button(window,text=\"Delete\",bg=\"pink\",width=6)\n",
    "btn_delete.grid(row=2,column=1,padx=0,pady=d,sticky=\"W\") # căn sát lề trái trong 1 cell của grid\n",
    "\n",
    "btn_search=tk.Button(window,text=\"Search\",bg=\"pink\",width=6)\n",
    "btn_search.grid(row=3,column=1,padx=0,pady=d,sticky=\"W\")\n",
    "\n",
    "btn_reset=tk.Button(window,text=\"Reset\",bg=\"pink\",width=6)\n",
    "btn_reset.grid(row=2,column=1,sticky=\"E\")\n",
    "\n",
    "btn_update=tk.Button(window,text=\"Update\",bg=\"pink\",width=6)\n",
    "btn_update.grid(row=3,column=1,sticky=\"E\")\n",
    "################## Kết thúc thiết kế Button\n",
    "#------------------------------------------------------------------------------------------------------------------------------------------------\n",
    "# Bắt đầu vòng lặp sự kiện\n",
    "window.mainloop()"
   ]
  },
  {
   "attachments": {
    "9cbf5021-1257-4f55-bbb8-7cec57aff8d5.png": {
     "image/png": "[encoded data removed]"
    }
   },
   "cell_type": "markdown",
   "id": "842f7dde-fd3c-4fb9-b767-573f0f9d0449",
   "metadata": {},
   "source": [
    "# <b><SPAN style='color:red'>Kết quả:</SPAN></b>\n",
    "\n",
    "![image.png](attachment:9cbf5021-1257-4f55-bbb8-7cec57aff8d5.png)"
   ]
  },
  {
   "cell_type": "markdown",
   "id": "73c505d7-09f5-4cf4-9ef7-dbe62b22d835",
   "metadata": {},
   "source": [
    "# <span style='color:red'>II. Viết code - thổi hồn vào giao diện - làm giao diện hoạt động được:</span>"
   ]
  },
  {
   "cell_type": "markdown",
   "id": "609bc4a0-520d-4d44-849d-e9e985fd84b5",
   "metadata": {},
   "source": [
    "## <span style=\"color:green\">Thêm mô đun tkinter</span>\n",
    "Không có dữ liệu thì không thể xóa (delete, Reset), sửa (Update), tìm kiếm(Search) được.  \n",
    "Do đó, Add là hoạt động đầu tiên phải ưu tiên viết trước.  \n",
    "Vấn đề cần tính trước: hoạt động của các button sẽ xảy ra ở đâu?  \n",
    "> Dữ liệu này cần thay đổi được.\n",
    "\n",
    "Lựa chọn dễ chịu nhất sẽ là List. \n",
    "List này sẽ chứa các đối tượng, mà đối tượng này chỉ có 2 thuộc tính: Tên, Số lượng. Vậy ta cần tạo Class cho các đối tượng.\n"
   ]
  },
  {
   "cell_type": "markdown",
   "id": "937c87aa-4d3a-44bf-bcad-e7a7dc96589d",
   "metadata": {},
   "source": [
    "## <span style=\"color:green\">Hoạt động 1: Phải tạo được Class để quản lý các đối tượng có 2 thuộc tính name và quantity:</span>"
   ]
  },
  {
   "cell_type": "code",
   "execution_count": null,
   "id": "2e70e394-4054-45bc-8ccc-6ccd8ae61981",
   "metadata": {},
   "outputs": [],
   "source": [
    "class Ingredient: # Đặt tên là Ingredeint vì bài cần quản lý đối tượng là các nguyên liệu\n",
    "    def __init__(self,name,quantity):\n",
    "        self.name=name #Tên nguyên liệu\n",
    "        self.quantity=quantity #Số lượng nguyên liệu"
   ]
  },
  {
   "cell_type": "markdown",
   "id": "79e488e4-1f53-4226-ac1c-e6f3f039ddc5",
   "metadata": {},
   "source": [
    "## <span style=\"color:green\">Hoạt động 2: Phải tạo được List để chứa các đối tượng:</span>"
   ]
  },
  {
   "cell_type": "code",
   "execution_count": null,
   "id": "32ba9d17-de2c-4850-a807-21e0b6d0ae2a",
   "metadata": {},
   "outputs": [],
   "source": [
    "ingredients=[]  #các nguyên liệu sẽ chứa trong list này."
   ]
  },
  {
   "cell_type": "markdown",
   "id": "11a0284f-9d00-449f-82d1-e230c7eebe5d",
   "metadata": {},
   "source": [
    "## <span style=\"color:green\">Hoạt động 3a: Viết hàm thêm đối tượng vào list <i><B>ingredients</B></i>:</span>\n",
    "### Mô tả hàm:\n",
    "Lấy tên từ ent_name và số lượng từ ent_quantity.  \n",
    "Kiểm tra ent_name có tồn tại trong danh sách chưa. Có thì báo không thêm được, Chưa thì thêm vô danh sách.  \n",
    "Tên thêm vào phải luôn ở dạng chữ HOA TOÀN BỘ. Khi kiểm tra nhớ chuyển tên cần kiểm thành HOA TOÀN BỘ"
   ]
  },
  {
   "cell_type": "code",
   "execution_count": null,
   "id": "7a3a60b7-2631-4e2a-80fc-61e7e57c707e",
   "metadata": {},
   "outputs": [],
   "source": [
    "def add_ingredient():\n",
    "    # Nhiệm vụ chính của hàm:\n",
    "    name_ingredient = ent_name.get() #lấy data từ widget tên ent_name đã thiết kế ở phần I.            (**)\n",
    "    is_exist=False # Biến phát hiện tên đối tượng đã tồn tại chưa, nếu đã tồn tại thì bật lên True\n",
    "    ########## Kiểm tra sự tồn tại của đối tượng.\n",
    "    for item in ingredients:\n",
    "        if item.name == name_ingredient.upper():\n",
    "            is_exist=True # Phát hiện có thì bật True\n",
    "            break # Thoát ra khi đã phát hiện sự tồn tại của đối tượng.\n",
    "    if is_exist: # is_exist là True = đối tượng đang tồn tại\n",
    "        mesagebox.showinfo(\"Add Ingredient\",f\"{name_ingredient} already exists in the list, cannot be added.\\nYou can update it if you need to modify the information.\")\n",
    "    else: #Nếu is_exist False = chưa có đối tượng trong danh sách thì thực hiện thêm vào:\n",
    "        quantity_ingredient = ent_quantity.get() #lấy data từ widget tên ent_quantity đã thiết kế ở phần I.\n",
    "        quantity_ingredient = int(quantity_ingredient) #chuyển nó thành số, giả sử rằng tất cả đều ở dạng số nguyên.\n",
    "        new_ingredient = Ingredient(name_ingredient.upper(),quantity_ingredient) # Gọi class Ingredient để tạo đối tượng mới new_ingredient.\n",
    "        ingredients.append(new_ingredient) #Thêm đối tượng new_ingredient vào danh sách ingredients \n",
    "        ent_name.delete(0,END)     # xóa nội dung ở ent_name, chuẩn bị cho người dùng nhập tên nguyên liệu mới.\n",
    "        ent_quantity.delete(0,END) # xóa nội dung ở ent_quantity, chuẩn bị cho người dùng nhập số lượng mới.\n",
    "    \n",
    "        # Nhiệm vụ phụ - in ra danh sách tên của các đối tượng để bản thân người lập trình dễ kiểm tra.\n",
    "        print([item.name for item in ingredients])\n",
    "\n",
    "        #Nhiệm vụ phụ nhưng quan trọng - quan tâm cảm xúc người dùng\n",
    "        #Hiển thị 1 hộp thông báo cho cho người dùng biết thông tinh của họ đã được lưu, điều này giúp người dùng an tâm là data đã được lưu.\n",
    "        messagebox.showinfo(\"Add Ingredient\",f\"{name_ingredient} is added successfully.\")\n",
    "                # \"Add Ingredient\": tên của hộp thông báo.\n",
    "                # f\"{name_ingredient} is added successfully.\" : nội dung cần thông báo.\n",
    "                    # {name_ingredient} : tên của nguyên liệu mà hàm đang xử lý. xem dòng đầu của hàm này, chỗ đánh dấu (**) cuối dòng."
   ]
  },
  {
   "cell_type": "markdown",
   "id": "8da99b99-46bb-424a-a2da-23a57b898f84",
   "metadata": {},
   "source": [
    "## <span style=\"color:green\">Hoạt động 3b: Thêm hàm vào nút lệnh <i><B>Add</B></i>:</span>"
   ]
  },
  {
   "cell_type": "markdown",
   "id": "1f908c3e-9f8b-4776-ba26-86657ad0d58d",
   "metadata": {},
   "source": [
    "### nút Add trước khi thêm lệnh (được trích ra để dễ theo dõi):"
   ]
  },
  {
   "cell_type": "code",
   "execution_count": null,
   "id": "a16de576-2997-42b5-8157-b7507ffca091",
   "metadata": {},
   "outputs": [],
   "source": [
    "btn_add=tk.Button(window,text=\"Add\",bg=\"pink\",width=6)"
   ]
  },
  {
   "cell_type": "markdown",
   "id": "8d102082-af05-499b-963a-13b833c9886b",
   "metadata": {},
   "source": [
    "### nút Add sau khi thêm lệnh (được trích ra để dễ theo dõi):"
   ]
  },
  {
   "cell_type": "code",
   "execution_count": null,
   "id": "908b94f9-4d78-4d4d-a80a-07cb21024592",
   "metadata": {},
   "outputs": [],
   "source": [
    "btn_add=tk.Button(window,text=\"Add\",bg=\"pink\",width=6,command=add_ingredient)"
   ]
  },
  {
   "cell_type": "markdown",
   "id": "51604f2f-240e-42dc-bed6-29dd50c6f8c2",
   "metadata": {},
   "source": [
    "### <span style=\"color: red\">Bài code sau khi hoàn tất các hoạt động trên sẽ có dạng:</span>"
   ]
  },
  {
   "cell_type": "code",
   "execution_count": 7,
   "id": "10eb0fce-d882-45e2-8cf7-439b06ade471",
   "metadata": {},
   "outputs": [
    {
     "name": "stdout",
     "output_type": "stream",
     "text": [
      "['POTATO']\n"
     ]
    }
   ],
   "source": [
    "#Thêm module hỗ trợ luôn phải ở trên cùng\n",
    "import tkinter as tk\n",
    "from tkinter import messagebox,END #Do không dùng from tkinter import * nên nếu không khai báo END ở đây bài chạy sẽ lỗi.\n",
    "#------------------------------------------------------------------------------------------------------------------------------------------------\n",
    "##################### Bắt đầu hoạt động 1: Tạo class để quản lý đối tượng\n",
    "class Ingredient: # Đặt tên là Ingredeint vì bài cần quản lý đối tượng là các nguyên liệu\n",
    "    def __init__(self,name,quantity):\n",
    "        self.name=name #Tên nguyên liệu\n",
    "        self.quantity=quantity #Số lượng nguyên liệu\n",
    "##################### Kết thúc hoạt động 1: Tạo class để quản lý đối tượng\n",
    "#------------------------------------------------------------------------------------------------------------------------------------------------\n",
    "##################### Bắt đầu hoạt động 2: Tạo danh sách để lưu trữ các đối tượng\n",
    "ingredients=[]  #các nguyên liệu sẽ chứa trong list này.\n",
    "##################### Kết thúc hoạt động 2: Tạo danh sách để lưu trữ các đối tượng\n",
    "#------------------------------------------------------------------------------------------------------------------------------------------------\n",
    "##################### Bắt đầu hoạt động 3a: Viết hàm cho nút Add\n",
    "def add_ingredient():\n",
    "    # Nhiệm vụ chính của hàm:\n",
    "    name_ingredient = ent_name.get() #lấy data từ widget tên ent_name đã thiết kế ở phần I.            (**)\n",
    "    is_exist=False # Biến phát hiện tên đối tượng đã tồn tại chưa, nếu đã tồn tại thì bật lên True\n",
    "    ########## Kiểm tra sự tồn tại của đối tượng.\n",
    "    for item in ingredients:\n",
    "        if item.name == name_ingredient.upper():\n",
    "            is_exist=True # Phát hiện có thì bật True\n",
    "            break # Thoát ra khi đã phát hiện sự tồn tại của đối tượng.\n",
    "    if is_exist: # is_exist là True = đối tượng đang tồn tại\n",
    "        messagebox.showinfo(\"Add Ingredient\",f\"{name_ingredient} already exists in the list, cannot be added.\\nYou can update it if you need to modify the information.\")\n",
    "    else: #Nếu is_exist False = chưa có đối tượng trong danh sách thì thực hiện thêm vào:\n",
    "        quantity_ingredient = ent_quantity.get() #lấy data từ widget tên ent_quantity đã thiết kế ở phần I.\n",
    "        quantity_ingredient = int(quantity_ingredient) #chuyển nó thành số, giả sử rằng tất cả đều ở dạng số nguyên.\n",
    "        new_ingredient = Ingredient(name_ingredient.upper(),quantity_ingredient) # Gọi class Ingredient để tạo đối tượng mới new_ingredient.\n",
    "        ingredients.append(new_ingredient) #Thêm đối tượng new_ingredient vào danh sách ingredients \n",
    "        ent_name.delete(0,END)     # xóa nội dung ở ent_name, chuẩn bị cho người dùng nhập tên nguyên liệu mới.\n",
    "        ent_quantity.delete(0,END) # xóa nội dung ở ent_quantity, chuẩn bị cho người dùng nhập số lượng mới.\n",
    "    \n",
    "        # Nhiệm vụ phụ - in ra danh sách tên của các đối tượng để bản thân người lập trình dễ kiểm tra.\n",
    "        print([item.name for item in ingredients])\n",
    "\n",
    "        #Nhiệm vụ phụ nhưng quan trọng - quan tâm cảm xúc người dùng\n",
    "        #Hiển thị 1 hộp thông báo cho cho người dùng biết thông tinh của họ đã được lưu, điều này giúp người dùng an tâm là data đã được lưu.\n",
    "        messagebox.showinfo(\"Add Ingredient\",f\"{name_ingredient} is added successfully.\")\n",
    "                # \"Add Ingredient\": tên của hộp thông báo.\n",
    "                # f\"{name_ingredient} is added successfully.\" : nội dung cần thông báo.\n",
    "                    # {name_ingredient} : tên của nguyên liệu mà hàm đang xử lý. xem dòng đầu của hàm này, chỗ đánh dấu (**) cuối dòng.\n",
    "##################### Kết thúc hoạt động 3a: Viết hàm cho nút Add\n",
    "##################### Xuống thực hiện command cho nút Add (btn_add) để kết thúc luôn hoạt động 3b trước khi làm việc khác.\n",
    "#------------------------------------------------------------------------------------------------------------------------------------------------\n",
    "#------------------------------------------------------------------------------------------------------------------------------------------------\n",
    "'''               BÊN TRÊN LÀ PHẦN VIẾT CODE ỨNG VỚI MỤC II. VIÊT CODE - THỔI HỒN VÀO GIAO DIỆN - LÀM GIAO DIỆN HOẠT ĐỘNG ĐƯỢC\n",
    "                   BÊN DƯỚI LÀ  PHẦN THIẾT KẾ ỨNG VỚI MỤC I. THIẾT KẾ GIAO DIỆN VỚI TKINTER'''\n",
    "#------------------------------------------------------------------------------------------------------------------------------------------------\n",
    "#------------------------------------------------------------------------------------------------------------------------------------------------\n",
    "# Phần thêm module hỗ trợ đã chuyển lên trên cùng.\n",
    "#------------------------------------------------------------------------------------------------------------------------------------------------\n",
    "# Khởi tạo biến chứa cửa sổ chính, dưới đây window là tên biến (có thể đổi tên khác tùy thích,root chẳn hạn, vietnam chẳn hạn.)\n",
    "window=tk.Tk()\n",
    "#------------------------------------------------------------------------------------------------------------------------------------------------\n",
    "################## Bắt đầu thiết kế cửa sổ \n",
    "window.title(\"Ingredients Management System\") #Tạo tiêu đề cho cửa sổ\n",
    "window.geometry(\"300x150+500+200\")# Cửa sổ ngang 300 pixel, cao 150 pixel, cách trái 500 pixel, cách trên 200 pixel.\n",
    "window.configure(background=\"dark green\")# đặt nền của window là màu xanh lá - đậm. (light - sáng)\n",
    "window.resizable(width=False,height=False)# không cho thay đổi kích thước cửa sổ\n",
    "################## Kết thúc thiết kế cửa sổ \n",
    "#------------------------------------------------------------------------------------------------------------------------------------------------\n",
    "################## Bắt đầu thiết kế label\n",
    "'''Thiết kế label gồm 2 bước: \n",
    "    bước1: tạo label\n",
    "    bước2: đưa label lên cửa sổ bằng'''\n",
    "d=5\n",
    "lbl_name=tk.Label(window,text=\"Name:\",width=10,bg=\"cyan\") #Tạo 1 widget là label có nhãn là Name, lưu vào biến lbl_name\n",
    "lbl_name.grid(row=0,column=0,padx=d,pady=d,sticky=\"E\") # Đưa widget lbl_name lên lưới tại tọa độ như mô tả ở đầu bài. CHÚ Ý LỆNH NÀY (PADx PADy)\n",
    "\n",
    "lbl_quantity=tk.Label(window,text=\"Quantity:\",width=10,bg=\"cyan\") #Tạo 1 widget là label có nhãn là Quantity, lưu vào biến lbl_quantity\n",
    "lbl_quantity.grid(row=1,column=0,padx=d,pady=d,sticky=\"E\") # Đưa widget lbl_quantity lên lưới tại tọa độ như mô tả ở đầu bài.\n",
    "################## Kết thúc thiết kế label\n",
    "#------------------------------------------------------------------------------------------------------------------------------------------------\n",
    "################## Bắt đầu thiết kế Entry\n",
    "ent_name=tk.Entry(window,bg=\"light green\")\n",
    "ent_name.grid(row=0,column=1,padx=0,pady=d)\n",
    "\n",
    "ent_quantity=tk.Entry(window,bg=\"light green\")\n",
    "ent_quantity.grid(row=1,column=1,padx=0,pady=d)\n",
    "\n",
    "ent_search=tk.Entry(window)\n",
    "ent_search.grid(row=3,column=0,padx=d,pady=d)\n",
    "################## Kết thúc thiết kế Entry\n",
    "#------------------------------------------------------------------------------------------------------------------------------------------------\n",
    "################## Bắt đầu thiết kế Button\n",
    "btn_add=tk.Button(window,text=\"Add\",bg=\"pink\",width=6,command=add_ingredient) # command=add_ingredient: là hoạt động 3b. HÃY CHẠY THỬ - CTRL+ENTER\n",
    "btn_add.grid(row=2,column=0,padx=d,pady=d,sticky=\"E\") # căn sát lề phải trong 1 cell của grid\n",
    "\n",
    "btn_delete=tk.Button(window,text=\"Delete\",bg=\"pink\",width=6)\n",
    "btn_delete.grid(row=2,column=1,padx=0,pady=d,sticky=\"W\") # căn sát lề trái trong 1 cell của grid\n",
    "\n",
    "btn_search=tk.Button(window,text=\"Search\",bg=\"pink\",width=6)\n",
    "btn_search.grid(row=3,column=1,padx=0,pady=d,sticky=\"W\")\n",
    "\n",
    "btn_reset=tk.Button(window,text=\"Reset\",bg=\"pink\",width=6)\n",
    "btn_reset.grid(row=2,column=1,sticky=\"E\")\n",
    "\n",
    "btn_update=tk.Button(window,text=\"Update\",bg=\"pink\",width=6)\n",
    "btn_update.grid(row=3,column=1,sticky=\"E\")\n",
    "################## Kết thúc thiết kế Button\n",
    "#------------------------------------------------------------------------------------------------------------------------------------------------\n",
    "# Bắt đầu vòng lặp sự kiện\n",
    "window.mainloop()"
   ]
  },
  {
   "attachments": {
    "3b4e7fc6-95c1-4d9e-85b6-d45dfc295333.png": {
     "image/png": "[encoded data removed]"
    }
   },
   "cell_type": "markdown",
   "id": "3ff4423e-8e59-4219-a084-7925e2e25b7a",
   "metadata": {},
   "source": [
    "### Kết quả:\n",
    "\n",
    "![image.png](attachment:3b4e7fc6-95c1-4d9e-85b6-d45dfc295333.png)"
   ]
  },
  {
   "cell_type": "markdown",
   "id": "cbe97b24-29f7-4146-ad69-aaa58ade1389",
   "metadata": {},
   "source": [
    "## <span style=\"color:green\">Hoạt động 4a: Viết hàm xóa đối tượng khỏi list <i><B>ingredients</B></i>:</span>\n",
    "### Mô tả hàm:  \n",
    "##### Lấy tên từ ent_search, kiểm tra tên có tồn tại trong danh sách hay không?\n",
    ">* Nếu có tồn tại thì thực hiện xóa và thông báo đã xóa rồi  \n",
    ">* Nếu không tồn tại thì thông báo không có đối tượng trong danh sách."
   ]
  },
  {
   "cell_type": "code",
   "execution_count": null,
   "id": "9c420318-3866-407d-ab4a-bbe0bd36423f",
   "metadata": {},
   "outputs": [],
   "source": [
    "def del_ingredient():\n",
    "    name_ingredient=ent_search.get().upper() # get() để lấy tên và upper() để đổi tên sang HOA HẾT.\n",
    "    is_exist = False # Khởi tạo biến kiểm tra tồn tại là False (chưa tồn tại)\n",
    "    for item in ingredients: #Cho item duyệt qua toàn bộ danh sách các nguyên.\n",
    "        if item.name == name_ingredient: # Nếu nguyên liệu có tồn tại thì\n",
    "            is_exist=True # bật biến kiểm tra lên True.\n",
    "            break # không cần kiểm hết danh sách khi đã phát hiện có sự tồn tại của đối tượng\n",
    "    if is_exist: # Đối tượng có tồn tại\n",
    "        messagebox.showinfo(\"Delete Ingredient\",f\"{name_ingredient} is deleted successfully.\")\n",
    "        ingredients.remove(item)  # Thực hiện xóa:        \n",
    "    else: # Đối tượng không tồn tại\n",
    "        messagebox.showinfo(\"Delete Ingredient\",f\"{name_ingredient} is not found.\")"
   ]
  },
  {
   "cell_type": "markdown",
   "id": "66f877a3-43ca-4d61-afce-364b2ab92772",
   "metadata": {},
   "source": [
    "## <span style=\"color:green\">Hoạt động 4b: Thêm hàm vào nút lệnh <i><B>Delete</B></i>:</span>\n",
    "Tìm kiếm nút lệnh btn_delete thêm vào command=del_ingredient"
   ]
  },
  {
   "cell_type": "markdown",
   "id": "31e5f8a6-b6aa-4818-a37d-15a8f32e2534",
   "metadata": {},
   "source": [
    "### <span style=\"color: red\">Bài code sau khi thêm hoạt động 4a và 4b:</span>"
   ]
  },
  {
   "cell_type": "code",
   "execution_count": 8,
   "id": "d1aaff33-03b8-4013-a89a-6edb46d26b97",
   "metadata": {},
   "outputs": [
    {
     "name": "stdout",
     "output_type": "stream",
     "text": [
      "['POTATO']\n"
     ]
    }
   ],
   "source": [
    "#Thêm module hỗ trợ luôn phải ở trên cùng\n",
    "import tkinter as tk\n",
    "from tkinter import messagebox,END #Do không dùng from tkinter import * nên nếu không khai báo END ở đây bài chạy sẽ lỗi.\n",
    "#------------------------------------------------------------------------------------------------------------------------------------------------\n",
    "##################### Bắt đầu hoạt động 1: Tạo class để quản lý đối tượng\n",
    "class Ingredient: # Đặt tên là Ingredeint vì bài cần quản lý đối tượng là các nguyên liệu\n",
    "    def __init__(self,name,quantity):\n",
    "        self.name=name #Tên nguyên liệu\n",
    "        self.quantity=quantity #Số lượng nguyên liệu\n",
    "##################### Kết thúc hoạt động 1: Tạo class để quản lý đối tượng\n",
    "#------------------------------------------------------------------------------------------------------------------------------------------------\n",
    "##################### Bắt đầu hoạt động 2: Tạo danh sách để lưu trữ các đối tượng\n",
    "ingredients=[]  #các nguyên liệu sẽ chứa trong list này.\n",
    "##################### Kết thúc hoạt động 2: Tạo danh sách để lưu trữ các đối tượng\n",
    "#------------------------------------------------------------------------------------------------------------------------------------------------\n",
    "##################### Bắt đầu hoạt động 3a: Viết hàm cho nút Add\n",
    "def add_ingredient():\n",
    "    # Nhiệm vụ chính của hàm:\n",
    "    name_ingredient = ent_name.get() #lấy data từ widget tên ent_name đã thiết kế ở phần I.            (**)\n",
    "    is_exist=False # Biến phát hiện tên đối tượng đã tồn tại chưa, nếu đã tồn tại thì bật lên True\n",
    "    ########## Kiểm tra sự tồn tại của đối tượng.\n",
    "    for item in ingredients:\n",
    "        if item.name == name_ingredient.upper():\n",
    "            is_exist=True # Phát hiện có thì bật True\n",
    "            break # Thoát ra khi đã phát hiện sự tồn tại của đối tượng.\n",
    "    if is_exist: # is_exist là True = đối tượng đang tồn tại\n",
    "        messagebox.showinfo(\"Add Ingredient\",f\"{name_ingredient} already exists in the list, cannot be added.\\nYou can update it if you need to modify the information.\")\n",
    "    else: #Nếu is_exist False = chưa có đối tượng trong danh sách thì thực hiện thêm vào:\n",
    "        quantity_ingredient = ent_quantity.get() #lấy data từ widget tên ent_quantity đã thiết kế ở phần I.\n",
    "        quantity_ingredient = int(quantity_ingredient) #chuyển nó thành số, giả sử rằng tất cả đều ở dạng số nguyên.\n",
    "        new_ingredient = Ingredient(name_ingredient.upper(),quantity_ingredient) # Gọi class Ingredient để tạo đối tượng mới new_ingredient.\n",
    "        ingredients.append(new_ingredient) #Thêm đối tượng new_ingredient vào danh sách ingredients \n",
    "        ent_name.delete(0,END)     # xóa nội dung ở ent_name, chuẩn bị cho người dùng nhập tên nguyên liệu mới.\n",
    "        ent_quantity.delete(0,END) # xóa nội dung ở ent_quantity, chuẩn bị cho người dùng nhập số lượng mới.\n",
    "    \n",
    "        # Nhiệm vụ phụ - in ra danh sách tên của các đối tượng để bản thân người lập trình dễ kiểm tra.\n",
    "        print([item.name for item in ingredients])\n",
    "\n",
    "        #Nhiệm vụ phụ nhưng quan trọng - quan tâm cảm xúc người dùng\n",
    "        #Hiển thị 1 hộp thông báo cho cho người dùng biết thông tinh của họ đã được lưu, điều này giúp người dùng an tâm là data đã được lưu.\n",
    "        messagebox.showinfo(\"Add Ingredient\",f\"{name_ingredient} is added successfully.\")\n",
    "                # \"Add Ingredient\": tên của hộp thông báo.\n",
    "                # f\"{name_ingredient} is added successfully.\" : nội dung cần thông báo.\n",
    "                    # {name_ingredient} : tên của nguyên liệu mà hàm đang xử lý. xem dòng đầu của hàm này, chỗ đánh dấu (**) cuối dòng.\n",
    "##################### Kết thúc hoạt động 3a: Viết hàm cho nút Add\n",
    "##################### Xuống thực hiện command cho nút Add (btn_add) để kết thúc luôn hoạt động 3b trước khi làm việc khác.\n",
    "\n",
    "##################### Bắt đầu hoạt động 4a: Viết hàm cho nút Delete\n",
    "def del_ingredient():\n",
    "    name_ingredient=ent_search.get().upper() # get() để lấy tên và upper() để đổi tên sang HOA HẾT.\n",
    "    is_exist = False # Khởi tạo biến kiểm tra tồn tại là False (chưa tồn tại)\n",
    "    for item in ingredients: #Cho item duyệt qua toàn bộ danh sách các nguyên.\n",
    "        if item.name == name_ingredient: # Nếu nguyên liệu có tồn tại thì\n",
    "            is_exist=True # bật biến kiểm tra lên True.\n",
    "            break # không cần kiểm hết danh sách khi đã phát hiện có sự tồn tại của đối tượng\n",
    "    if is_exist: # Đối tượng có tồn tại\n",
    "        messagebox.showinfo(\"Delete Ingredient\",f\"{name_ingredient} is deleted successfully.\")\n",
    "        ingredients.remove(item)  # Thực hiện xóa:        \n",
    "    else: # Đối tượng không tồn tại\n",
    "        messagebox.showinfo(\"Delete Ingredient\",f\"{name_ingredient} is not found.\")\n",
    "##################### Kết thúc hoạt động 4a: Viết hàm cho nút Delete\n",
    "##################### Xuống thực hiện command cho nút Delete (btn_delete) để kết thúc 4b trước khi làm việc khác.\n",
    "\n",
    "#------------------------------------------------------------------------------------------------------------------------------------------------\n",
    "#------------------------------------------------------------------------------------------------------------------------------------------------\n",
    "'''               BÊN TRÊN LÀ PHẦN VIẾT CODE ỨNG VỚI MỤC II. VIÊT CODE - THỔI HỒN VÀO GIAO DIỆN - LÀM GIAO DIỆN HOẠT ĐỘNG ĐƯỢC\n",
    "                   BÊN DƯỚI LÀ  PHẦN THIẾT KẾ ỨNG VỚI MỤC I. THIẾT KẾ GIAO DIỆN VỚI TKINTER'''\n",
    "#------------------------------------------------------------------------------------------------------------------------------------------------\n",
    "#------------------------------------------------------------------------------------------------------------------------------------------------\n",
    "# Phần thêm module hỗ trợ đã chuyển lên trên cùng.\n",
    "#------------------------------------------------------------------------------------------------------------------------------------------------\n",
    "# Khởi tạo biến chứa cửa sổ chính, dưới đây window là tên biến (có thể đổi tên khác tùy thích,root chẳn hạn, vietnam chẳn hạn.)\n",
    "window=tk.Tk()\n",
    "#------------------------------------------------------------------------------------------------------------------------------------------------\n",
    "################## Bắt đầu thiết kế cửa sổ \n",
    "window.title(\"Ingredients Management System\") #Tạo tiêu đề cho cửa sổ\n",
    "window.geometry(\"300x150+500+200\")# Cửa sổ ngang 300 pixel, cao 150 pixel, cách trái 500 pixel, cách trên 200 pixel.\n",
    "window.configure(background=\"dark green\")# đặt nền của window là màu xanh lá - đậm. (light - sáng)\n",
    "window.resizable(width=False,height=False)# không cho thay đổi kích thước cửa sổ\n",
    "################## Kết thúc thiết kế cửa sổ \n",
    "#------------------------------------------------------------------------------------------------------------------------------------------------\n",
    "################## Bắt đầu thiết kế label\n",
    "'''Thiết kế label gồm 2 bước: \n",
    "    bước1: tạo label\n",
    "    bước2: đưa label lên cửa sổ bằng'''\n",
    "d=5\n",
    "lbl_name=tk.Label(window,text=\"Name:\",width=10,bg=\"cyan\") #Tạo 1 widget là label có nhãn là Name, lưu vào biến lbl_name\n",
    "lbl_name.grid(row=0,column=0,padx=d,pady=d,sticky=\"E\") # Đưa widget lbl_name lên lưới tại tọa độ như mô tả ở đầu bài. CHÚ Ý LỆNH NÀY (PADx PADy)\n",
    "\n",
    "lbl_quantity=tk.Label(window,text=\"Quantity:\",width=10,bg=\"cyan\") #Tạo 1 widget là label có nhãn là Quantity, lưu vào biến lbl_quantity\n",
    "lbl_quantity.grid(row=1,column=0,padx=d,pady=d,sticky=\"E\") # Đưa widget lbl_quantity lên lưới tại tọa độ như mô tả ở đầu bài.\n",
    "################## Kết thúc thiết kế label\n",
    "#------------------------------------------------------------------------------------------------------------------------------------------------\n",
    "################## Bắt đầu thiết kế Entry\n",
    "ent_name=tk.Entry(window,bg=\"light green\")\n",
    "ent_name.grid(row=0,column=1,padx=0,pady=d)\n",
    "\n",
    "ent_quantity=tk.Entry(window,bg=\"light green\")\n",
    "ent_quantity.grid(row=1,column=1,padx=0,pady=d)\n",
    "\n",
    "ent_search=tk.Entry(window)\n",
    "ent_search.grid(row=3,column=0,padx=d,pady=d)\n",
    "################## Kết thúc thiết kế Entry\n",
    "#------------------------------------------------------------------------------------------------------------------------------------------------\n",
    "################## Bắt đầu thiết kế Button\n",
    "btn_add=tk.Button(window,text=\"Add\",bg=\"pink\",width=6,command=add_ingredient)\n",
    "btn_add.grid(row=2,column=0,padx=d,pady=d,sticky=\"E\") # căn sát lề phải trong 1 cell của grid\n",
    "\n",
    "btn_delete=tk.Button(window,text=\"Delete\",bg=\"pink\",width=6,command=del_ingredient) # Kết thúc hoạt động 4b. HÃY CHẠY THỬ - CTRL+ENTER\n",
    "btn_delete.grid(row=2,column=1,padx=0,pady=d,sticky=\"W\") # căn sát lề trái trong 1 cell của grid\n",
    "\n",
    "btn_search=tk.Button(window,text=\"Search\",bg=\"pink\",width=6)\n",
    "btn_search.grid(row=3,column=1,padx=0,pady=d,sticky=\"W\")\n",
    "\n",
    "btn_reset=tk.Button(window,text=\"Reset\",bg=\"pink\",width=6)\n",
    "btn_reset.grid(row=2,column=1,sticky=\"E\")\n",
    "\n",
    "btn_update=tk.Button(window,text=\"Update\",bg=\"pink\",width=6)\n",
    "btn_update.grid(row=3,column=1,sticky=\"E\")\n",
    "################## Kết thúc thiết kế Button\n",
    "#------------------------------------------------------------------------------------------------------------------------------------------------\n",
    "# Bắt đầu vòng lặp sự kiện\n",
    "window.mainloop()"
   ]
  },
  {
   "cell_type": "markdown",
   "id": "ff512941-79b4-415e-9863-3288964cfac7",
   "metadata": {},
   "source": [
    "## <span style=\"color:green\">Hoạt động 5a: Viết hàm tìm đối tượng trong list <i><B>ingredients</B></i>:</span>\n",
    "### Mô tả hàm:  \n",
    "##### Lấy tên từ ent_search, kiểm tra tên có tồn tại trong danh sách hay không?\n",
    ">* Nếu có tồn tại thì thực hiện thônb báo cho user xem.  \n",
    ">* Nếu không tồn tại cũng thông báo cho user biết."
   ]
  },
  {
   "cell_type": "code",
   "execution_count": null,
   "id": "a52b896d-1804-452c-8ccb-00c0eb846f95",
   "metadata": {},
   "outputs": [],
   "source": [
    "def search_ingredient():\n",
    "    name_ingredient=ent_search.get() # lấy tên của ingredient từ nút ent_search\n",
    "    name_ingredient=name_ingredient.upper() # đổi tên thành HOA HẾT\n",
    "    is_exist=False # bật biến kiểm tra là False ( đối tượng chưa tồn tại)\n",
    "    for item in ingredients:\n",
    "        if item.name == name_ingredient:\n",
    "            is_exist=True # bật biến kiểm tra là True ( đối tượng có tồn tại)\n",
    "            break # có tồn tại thì khỏi kiểm tra nữa\n",
    "    if is_exist:\n",
    "        messagebox.showinfo(\"Search Ingredient\",f\"Name: {item.name}. Quantity: {item.quantity}\")\n",
    "    else:\n",
    "        messagebox.showinfo(\"Search Ingredient\",f\"{name_ingredient} is not found.\")"
   ]
  },
  {
   "cell_type": "markdown",
   "id": "a9660199-f225-4d32-9d33-68c560c61bb5",
   "metadata": {},
   "source": [
    "## <span style=\"color:green\">Hoạt động 5b: Thêm hàm vào nút lệnh <i><B>Search</B></i>:</span>\n",
    "Tìm kiếm nút lệnh btn_search thêm vào command=search_ingredient"
   ]
  },
  {
   "cell_type": "markdown",
   "id": "bb2cdd00-73cd-4e14-8f9b-e5ad9160e683",
   "metadata": {},
   "source": [
    "### <span style=\"color: red\">Bài code sau khi thêm hoạt động 5a và 5b:</span>"
   ]
  },
  {
   "cell_type": "code",
   "execution_count": 9,
   "id": "a9621c74-7daa-48e1-b730-812e9a385135",
   "metadata": {},
   "outputs": [
    {
     "name": "stdout",
     "output_type": "stream",
     "text": [
      "['POTATO']\n"
     ]
    }
   ],
   "source": [
    "#Thêm module hỗ trợ luôn phải ở trên cùng\n",
    "import tkinter as tk\n",
    "from tkinter import messagebox,END #Do không dùng from tkinter import * nên nếu không khai báo END ở đây bài chạy sẽ lỗi.\n",
    "#------------------------------------------------------------------------------------------------------------------------------------------------\n",
    "##################### Bắt đầu hoạt động 1: Tạo class để quản lý đối tượng\n",
    "class Ingredient: # Đặt tên là Ingredeint vì bài cần quản lý đối tượng là các nguyên liệu\n",
    "    def __init__(self,name,quantity):\n",
    "        self.name=name #Tên nguyên liệu\n",
    "        self.quantity=quantity #Số lượng nguyên liệu\n",
    "##################### Kết thúc hoạt động 1: Tạo class để quản lý đối tượng\n",
    "#------------------------------------------------------------------------------------------------------------------------------------------------\n",
    "##################### Bắt đầu hoạt động 2: Tạo danh sách để lưu trữ các đối tượng\n",
    "ingredients=[]  #các nguyên liệu sẽ chứa trong list này.\n",
    "##################### Kết thúc hoạt động 2: Tạo danh sách để lưu trữ các đối tượng\n",
    "#------------------------------------------------------------------------------------------------------------------------------------------------\n",
    "##################### Bắt đầu hoạt động 3a: Viết hàm cho nút Add\n",
    "def add_ingredient():\n",
    "    # Nhiệm vụ chính của hàm:\n",
    "    name_ingredient = ent_name.get() #lấy data từ widget tên ent_name đã thiết kế ở phần I.            (**)\n",
    "    is_exist=False # Biến phát hiện tên đối tượng đã tồn tại chưa, nếu đã tồn tại thì bật lên True\n",
    "    ########## Kiểm tra sự tồn tại của đối tượng.\n",
    "    for item in ingredients:\n",
    "        if item.name == name_ingredient.upper():\n",
    "            is_exist=True # Phát hiện có thì bật True\n",
    "            break # Thoát ra khi đã phát hiện sự tồn tại của đối tượng.\n",
    "    if is_exist: # is_exist là True = đối tượng đang tồn tại\n",
    "        messagebox.showinfo(\"Add Ingredient\",f\"{name_ingredient} already exists in the list, cannot be added.\\nYou can update it if you need to modify the information.\")\n",
    "    else: #Nếu is_exist False = chưa có đối tượng trong danh sách thì thực hiện thêm vào:\n",
    "        quantity_ingredient = ent_quantity.get() #lấy data từ widget tên ent_quantity đã thiết kế ở phần I.\n",
    "        quantity_ingredient = int(quantity_ingredient) #chuyển nó thành số, giả sử rằng tất cả đều ở dạng số nguyên.\n",
    "        new_ingredient = Ingredient(name_ingredient.upper(),quantity_ingredient) # Gọi class Ingredient để tạo đối tượng mới new_ingredient.\n",
    "        ingredients.append(new_ingredient) #Thêm đối tượng new_ingredient vào danh sách ingredients \n",
    "        ent_name.delete(0,END)     # xóa nội dung ở ent_name, chuẩn bị cho người dùng nhập tên nguyên liệu mới.\n",
    "        ent_quantity.delete(0,END) # xóa nội dung ở ent_quantity, chuẩn bị cho người dùng nhập số lượng mới.\n",
    "    \n",
    "        # Nhiệm vụ phụ - in ra danh sách tên của các đối tượng để bản thân người lập trình dễ kiểm tra.\n",
    "        print([item.name for item in ingredients])\n",
    "\n",
    "        #Nhiệm vụ phụ nhưng quan trọng - quan tâm cảm xúc người dùng\n",
    "        #Hiển thị 1 hộp thông báo cho cho người dùng biết thông tinh của họ đã được lưu, điều này giúp người dùng an tâm là data đã được lưu.\n",
    "        messagebox.showinfo(\"Add Ingredient\",f\"{name_ingredient} is added successfully.\")\n",
    "                # \"Add Ingredient\": tên của hộp thông báo.\n",
    "                # f\"{name_ingredient} is added successfully.\" : nội dung cần thông báo.\n",
    "                    # {name_ingredient} : tên của nguyên liệu mà hàm đang xử lý. xem dòng đầu của hàm này, chỗ đánh dấu (**) cuối dòng.\n",
    "##################### Kết thúc hoạt động 3a: Viết hàm cho nút Add\n",
    "##################### Xuống thực hiện command cho nút Add (btn_add) để kết thúc luôn hoạt động 3b trước khi làm việc khác.\n",
    "#------------------------------------------------------------------------------------------------------------------------------------------------\n",
    "##################### Bắt đầu hoạt động 4a: Viết hàm cho nút Delete\n",
    "def del_ingredient():\n",
    "    name_ingredient=ent_search.get().upper() # get() để lấy tên và upper() để đổi tên sang HOA HẾT.\n",
    "    is_exist = False # Khởi tạo biến kiểm tra tồn tại là False (chưa tồn tại)\n",
    "    for item in ingredients: #Cho item duyệt qua toàn bộ danh sách các nguyên.\n",
    "        if item.name == name_ingredient: # Nếu nguyên liệu có tồn tại thì\n",
    "            is_exist=True # bật biến kiểm tra lên True.\n",
    "            break # không cần kiểm hết danh sách khi đã phát hiện có sự tồn tại của đối tượng\n",
    "    if is_exist: # Đối tượng có tồn tại\n",
    "        messagebox.showinfo(\"Delete Ingredient\",f\"{name_ingredient} is deleted successfully.\")\n",
    "        ingredients.remove(item)  # Thực hiện xóa:        \n",
    "    else: # Đối tượng không tồn tại\n",
    "        messagebox.showinfo(\"Delete Ingredient\",f\"{name_ingredient} is not found.\")\n",
    "##################### Kết thúc hoạt động 4a: Viết hàm cho nút Delete\n",
    "##################### Xuống thực hiện command cho nút Delete (btn_delete) để kết thúc 4b trước khi làm việc khác.\n",
    "#------------------------------------------------------------------------------------------------------------------------------------------------\n",
    "##################### Bắt đầu hoạt động 5a: Viết hàm cho nút Search\n",
    "def search_ingredient():\n",
    "    name_ingredient=ent_search.get() # lấy tên của ingredient từ nút ent_search\n",
    "    name_ingredient=name_ingredient.upper() # đổi tên thành HOA HẾT\n",
    "    is_exist=False # bật biến kiểm tra là False ( đối tượng chưa tồn tại)\n",
    "    for item in ingredients:\n",
    "        if item.name == name_ingredient:\n",
    "            is_exist=True # bật biến kiểm tra là True ( đối tượng có tồn tại)\n",
    "            break # có tồn tại thì khỏi kiểm tra nữa\n",
    "    if is_exist:\n",
    "        messagebox.showinfo(\"Search Ingredient\",f\"Name: {item.name}. Quantity: {item.quantity}\")\n",
    "    else:\n",
    "        messagebox.showinfo(\"Search Ingredient\",f\"{name_ingredient} is not found.\")\n",
    "##################### Kết thúc hoạt động 5a: Viết hàm cho nút Search\n",
    "##################### Xuống thực hiện command cho nút Search (btn_search) để kết thúc 5b trước khi làm việc khác.\n",
    "\n",
    "#------------------------------------------------------------------------------------------------------------------------------------------------\n",
    "#------------------------------------------------------------------------------------------------------------------------------------------------\n",
    "'''               BÊN TRÊN LÀ PHẦN VIẾT CODE ỨNG VỚI MỤC II. VIÊT CODE - THỔI HỒN VÀO GIAO DIỆN - LÀM GIAO DIỆN HOẠT ĐỘNG ĐƯỢC\n",
    "                   BÊN DƯỚI LÀ  PHẦN THIẾT KẾ ỨNG VỚI MỤC I. THIẾT KẾ GIAO DIỆN VỚI TKINTER'''\n",
    "#------------------------------------------------------------------------------------------------------------------------------------------------\n",
    "#------------------------------------------------------------------------------------------------------------------------------------------------\n",
    "# Phần thêm module hỗ trợ đã chuyển lên trên cùng.\n",
    "#------------------------------------------------------------------------------------------------------------------------------------------------\n",
    "# Khởi tạo biến chứa cửa sổ chính, dưới đây window là tên biến (có thể đổi tên khác tùy thích,root chẳn hạn, vietnam chẳn hạn.)\n",
    "window=tk.Tk()\n",
    "#------------------------------------------------------------------------------------------------------------------------------------------------\n",
    "################## Bắt đầu thiết kế cửa sổ \n",
    "window.title(\"Ingredients Management System\") #Tạo tiêu đề cho cửa sổ\n",
    "window.geometry(\"300x150+500+200\")# Cửa sổ ngang 300 pixel, cao 150 pixel, cách trái 500 pixel, cách trên 200 pixel.\n",
    "window.configure(background=\"dark green\")# đặt nền của window là màu xanh lá - đậm. (light - sáng)\n",
    "window.resizable(width=False,height=False)# không cho thay đổi kích thước cửa sổ\n",
    "################## Kết thúc thiết kế cửa sổ \n",
    "#------------------------------------------------------------------------------------------------------------------------------------------------\n",
    "################## Bắt đầu thiết kế label\n",
    "'''Thiết kế label gồm 2 bước: \n",
    "    bước1: tạo label\n",
    "    bước2: đưa label lên cửa sổ bằng'''\n",
    "d=5\n",
    "lbl_name=tk.Label(window,text=\"Name:\",width=10,bg=\"cyan\") #Tạo 1 widget là label có nhãn là Name, lưu vào biến lbl_name\n",
    "lbl_name.grid(row=0,column=0,padx=d,pady=d,sticky=\"E\") # Đưa widget lbl_name lên lưới tại tọa độ như mô tả ở đầu bài. CHÚ Ý LỆNH NÀY (PADx PADy)\n",
    "\n",
    "lbl_quantity=tk.Label(window,text=\"Quantity:\",width=10,bg=\"cyan\") #Tạo 1 widget là label có nhãn là Quantity, lưu vào biến lbl_quantity\n",
    "lbl_quantity.grid(row=1,column=0,padx=d,pady=d,sticky=\"E\") # Đưa widget lbl_quantity lên lưới tại tọa độ như mô tả ở đầu bài.\n",
    "################## Kết thúc thiết kế label\n",
    "#------------------------------------------------------------------------------------------------------------------------------------------------\n",
    "################## Bắt đầu thiết kế Entry\n",
    "ent_name=tk.Entry(window,bg=\"light green\")\n",
    "ent_name.grid(row=0,column=1,padx=0,pady=d)\n",
    "\n",
    "ent_quantity=tk.Entry(window,bg=\"light green\")\n",
    "ent_quantity.grid(row=1,column=1,padx=0,pady=d)\n",
    "\n",
    "ent_search=tk.Entry(window)\n",
    "ent_search.grid(row=3,column=0,padx=d,pady=d)\n",
    "################## Kết thúc thiết kế Entry\n",
    "#------------------------------------------------------------------------------------------------------------------------------------------------\n",
    "################## Bắt đầu thiết kế Button\n",
    "btn_add=tk.Button(window,text=\"Add\",bg=\"pink\",width=6,command=add_ingredient)\n",
    "btn_add.grid(row=2,column=0,padx=d,pady=d,sticky=\"E\") # căn sát lề phải trong 1 cell của grid\n",
    "\n",
    "btn_delete=tk.Button(window,text=\"Delete\",bg=\"pink\",width=6,command=del_ingredient) \n",
    "btn_delete.grid(row=2,column=1,padx=0,pady=d,sticky=\"W\") # căn sát lề trái trong 1 cell của grid\n",
    "\n",
    "btn_search=tk.Button(window,text=\"Search\",bg=\"pink\",width=6,command=search_ingredient) # Kết thúc hoạt động 5b. HÃY CHẠY THỬ - CTRL+ENTER\n",
    "btn_search.grid(row=3,column=1,padx=0,pady=d,sticky=\"W\")\n",
    "\n",
    "btn_reset=tk.Button(window,text=\"Reset\",bg=\"pink\",width=6)\n",
    "btn_reset.grid(row=2,column=1,sticky=\"E\")\n",
    "\n",
    "btn_update=tk.Button(window,text=\"Update\",bg=\"pink\",width=6)\n",
    "btn_update.grid(row=3,column=1,sticky=\"E\")\n",
    "################## Kết thúc thiết kế Button\n",
    "#------------------------------------------------------------------------------------------------------------------------------------------------\n",
    "# Bắt đầu vòng lặp sự kiện\n",
    "window.mainloop()"
   ]
  },
  {
   "cell_type": "markdown",
   "id": "59f6170f-a743-45fd-976a-d3df21fa6659",
   "metadata": {},
   "source": [
    "## <span style=\"color:green\">Hoạt động 6a: Viết hàm update đối tượng trong list <i><B>ingredients</B></i>:</span>\n",
    "### Mô tả hàm:  \n",
    "##### Lấy tên từ ent_search, kiểm tra tên có tồn tại trong danh sách hay không?\n",
    ">* Nếu có tồn tại thì thực hiện update và thônb báo cho user biết.  \n",
    ">* Nếu không tồn tại cũng thông báo cho user biết nó chưa có."
   ]
  },
  {
   "cell_type": "code",
   "execution_count": null,
   "id": "1cb7e6a5-9f2b-481f-b0aa-4986a79bc42a",
   "metadata": {},
   "outputs": [],
   "source": [
    "def update_ingredient():\n",
    "    name_ingredient=ent_name.get().upper()\n",
    "    is_exist=False\n",
    "    for item in ingredients:\n",
    "        if item.name==name_ingredient:\n",
    "            is_exist=True\n",
    "            break\n",
    "    if is_exist: # Đối tượng có trong danh sách\n",
    "        info=f\"Before update. Name:{item.name}, quantity: {item.quantity}\"\n",
    "        item.quantity=int(ent_quantity.get()) #giả sử số lượng luôn là số nguyên\n",
    "        info+=f\"\\nAfter update. Name: {item.name}, quantity: {item.quantity}.\"\n",
    "        messagebox.showinfo(\"Update Ingredient\",info)\n",
    "    else:\n",
    "        messagebox.showinfo(\"Update Ingredient\",f\"{name_ingredien} is not found.\")"
   ]
  },
  {
   "cell_type": "markdown",
   "id": "8ef98364-042a-41f8-98ab-f0c6ebace8a8",
   "metadata": {},
   "source": [
    "## <span style=\"color:green\">Hoạt động 6b: Thêm hàm vào nút lệnh <i><B>Update</B></i>:</span>\n",
    "Tìm kiếm nút lệnh btn_update thêm vào command=update_ingredient"
   ]
  },
  {
   "cell_type": "markdown",
   "id": "f0e2dc74-52af-4e89-a15e-502e962dfaf3",
   "metadata": {},
   "source": [
    "### <span style=\"color: red\">Bài code sau khi thêm hoạt động 6a và 6b:</span>"
   ]
  },
  {
   "cell_type": "code",
   "execution_count": 11,
   "id": "aac2814e-493b-4147-8a8b-7dd25233b900",
   "metadata": {},
   "outputs": [
    {
     "name": "stdout",
     "output_type": "stream",
     "text": [
      "['POTATO']\n"
     ]
    }
   ],
   "source": [
    "#Thêm module hỗ trợ luôn phải ở trên cùng\n",
    "import tkinter as tk\n",
    "from tkinter import messagebox,END #Do không dùng from tkinter import * nên nếu không khai báo END ở đây bài chạy sẽ lỗi.\n",
    "#------------------------------------------------------------------------------------------------------------------------------------------------\n",
    "##################### Bắt đầu hoạt động 1: Tạo class để quản lý đối tượng\n",
    "class Ingredient: # Đặt tên là Ingredeint vì bài cần quản lý đối tượng là các nguyên liệu\n",
    "    def __init__(self,name,quantity):\n",
    "        self.name=name #Tên nguyên liệu\n",
    "        self.quantity=quantity #Số lượng nguyên liệu\n",
    "##################### Kết thúc hoạt động 1: Tạo class để quản lý đối tượng\n",
    "#------------------------------------------------------------------------------------------------------------------------------------------------\n",
    "##################### Bắt đầu hoạt động 2: Tạo danh sách để lưu trữ các đối tượng\n",
    "ingredients=[]  #các nguyên liệu sẽ chứa trong list này.\n",
    "##################### Kết thúc hoạt động 2: Tạo danh sách để lưu trữ các đối tượng\n",
    "#------------------------------------------------------------------------------------------------------------------------------------------------\n",
    "##################### Bắt đầu hoạt động 3a: Viết hàm cho nút Add\n",
    "def add_ingredient():\n",
    "    # Nhiệm vụ chính của hàm:\n",
    "    name_ingredient = ent_name.get() #lấy data từ widget tên ent_name đã thiết kế ở phần I.            (**)\n",
    "    is_exist=False # Biến phát hiện tên đối tượng đã tồn tại chưa, nếu đã tồn tại thì bật lên True\n",
    "    ########## Kiểm tra sự tồn tại của đối tượng.\n",
    "    for item in ingredients:\n",
    "        if item.name == name_ingredient.upper():\n",
    "            is_exist=True # Phát hiện có thì bật True\n",
    "            break # Thoát ra khi đã phát hiện sự tồn tại của đối tượng.\n",
    "    if is_exist: # is_exist là True = đối tượng đang tồn tại\n",
    "        messagebox.showinfo(\"Add Ingredient\",f\"{name_ingredient} already exists in the list, cannot be added.\\nYou can update it if you need to modify the information.\")\n",
    "    else: #Nếu is_exist False = chưa có đối tượng trong danh sách thì thực hiện thêm vào:\n",
    "        quantity_ingredient = ent_quantity.get() #lấy data từ widget tên ent_quantity đã thiết kế ở phần I.\n",
    "        quantity_ingredient = int(quantity_ingredient) #chuyển nó thành số, giả sử rằng tất cả đều ở dạng số nguyên.\n",
    "        new_ingredient = Ingredient(name_ingredient.upper(),quantity_ingredient) # Gọi class Ingredient để tạo đối tượng mới new_ingredient.\n",
    "        ingredients.append(new_ingredient) #Thêm đối tượng new_ingredient vào danh sách ingredients \n",
    "        ent_name.delete(0,END)     # xóa nội dung ở ent_name, chuẩn bị cho người dùng nhập tên nguyên liệu mới.\n",
    "        ent_quantity.delete(0,END) # xóa nội dung ở ent_quantity, chuẩn bị cho người dùng nhập số lượng mới.\n",
    "    \n",
    "        # Nhiệm vụ phụ - in ra danh sách tên của các đối tượng để bản thân người lập trình dễ kiểm tra.\n",
    "        print([item.name for item in ingredients])\n",
    "\n",
    "        #Nhiệm vụ phụ nhưng quan trọng - quan tâm cảm xúc người dùng\n",
    "        #Hiển thị 1 hộp thông báo cho cho người dùng biết thông tinh của họ đã được lưu, điều này giúp người dùng an tâm là data đã được lưu.\n",
    "        messagebox.showinfo(\"Add Ingredient\",f\"{name_ingredient} is added successfully.\")\n",
    "                # \"Add Ingredient\": tên của hộp thông báo.\n",
    "                # f\"{name_ingredient} is added successfully.\" : nội dung cần thông báo.\n",
    "                    # {name_ingredient} : tên của nguyên liệu mà hàm đang xử lý. xem dòng đầu của hàm này, chỗ đánh dấu (**) cuối dòng.\n",
    "##################### Kết thúc hoạt động 3a: Viết hàm cho nút Add\n",
    "##################### Xuống thực hiện command cho nút Add (btn_add) để kết thúc luôn hoạt động 3b trước khi làm việc khác.\n",
    "#------------------------------------------------------------------------------------------------------------------------------------------------\n",
    "##################### Bắt đầu hoạt động 4a: Viết hàm cho nút Delete\n",
    "def del_ingredient():\n",
    "    name_ingredient=ent_search.get().upper() # get() để lấy tên và upper() để đổi tên sang HOA HẾT.\n",
    "    is_exist = False # Khởi tạo biến kiểm tra tồn tại là False (chưa tồn tại)\n",
    "    for item in ingredients: #Cho item duyệt qua toàn bộ danh sách các nguyên.\n",
    "        if item.name == name_ingredient: # Nếu nguyên liệu có tồn tại thì\n",
    "            is_exist=True # bật biến kiểm tra lên True.\n",
    "            break # không cần kiểm hết danh sách khi đã phát hiện có sự tồn tại của đối tượng\n",
    "    if is_exist: # Đối tượng có tồn tại\n",
    "        messagebox.showinfo(\"Delete Ingredient\",f\"{name_ingredient} is deleted successfully.\")\n",
    "        ingredients.remove(item)  # Thực hiện xóa:        \n",
    "    else: # Đối tượng không tồn tại\n",
    "        messagebox.showinfo(\"Delete Ingredient\",f\"{name_ingredient} is not found.\")\n",
    "##################### Kết thúc hoạt động 4a: Viết hàm cho nút Delete\n",
    "##################### Xuống thực hiện command cho nút Delete (btn_delete) để kết thúc 4b trước khi làm việc khác.\n",
    "#------------------------------------------------------------------------------------------------------------------------------------------------\n",
    "##################### Bắt đầu hoạt động 5a: Viết hàm cho nút Search\n",
    "def search_ingredient():\n",
    "    name_ingredient=ent_search.get() # lấy tên của ingredient từ nút ent_search\n",
    "    name_ingredient=name_ingredient.upper() # đổi tên thành HOA HẾT\n",
    "    is_exist=False # bật biến kiểm tra là False ( đối tượng chưa tồn tại)\n",
    "    for item in ingredients:\n",
    "        if item.name == name_ingredient:\n",
    "            is_exist=True # bật biến kiểm tra là True ( đối tượng có tồn tại)\n",
    "            break # có tồn tại thì khỏi kiểm tra nữa\n",
    "    if is_exist:\n",
    "        messagebox.showinfo(\"Search Ingredient\",f\"Name: {item.name}. Quantity: {item.quantity}\")\n",
    "    else:\n",
    "        messagebox.showinfo(\"Search Ingredient\",f\"{name_ingredient} is not found.\")\n",
    "##################### Kết thúc hoạt động 5a: Viết hàm cho nút Search\n",
    "##################### Xuống thực hiện command cho nút Search (btn_search) để kết thúc 5b trước khi làm việc khác.\n",
    "#------------------------------------------------------------------------------------------------------------------------------------------------\n",
    "##################### Bắt đầu hoạt động 6a: Viết hàm cho nút Update\n",
    "def update_ingredient():\n",
    "    name_ingredient=ent_name.get().upper()\n",
    "    is_exist=False\n",
    "    for item in ingredients:\n",
    "        if item.name==name_ingredient:\n",
    "            is_exist=True\n",
    "            break\n",
    "    if is_exist: # Đối tượng có trong danh sách\n",
    "        info=f\"Before update. Name:{item.name}, quantity: {item.quantity}\"\n",
    "        item.quantity=int(ent_quantity.get()) #giả sử số lượng luôn là số nguyên\n",
    "        info+=f\"\\nAfter update. Name: {item.name}, quantity: {item.quantity}.\"\n",
    "        messagebox.showinfo(\"Update Ingredient\",info)\n",
    "    else:\n",
    "        messagebox.showinfo(\"Update Ingredient\",f\"{name_ingredient} is not found.\")\n",
    "##################### Kết thúc hoạt động 6a: Viết hàm cho nút Update\n",
    "##################### Xuống thực hiện command cho nút Update (btn_update) để kết thúc 6b trước khi làm việc khác.\n",
    "#------------------------------------------------------------------------------------------------------------------------------------------------\n",
    "#------------------------------------------------------------------------------------------------------------------------------------------------\n",
    "'''               BÊN TRÊN LÀ PHẦN VIẾT CODE ỨNG VỚI MỤC II. VIÊT CODE - THỔI HỒN VÀO GIAO DIỆN - LÀM GIAO DIỆN HOẠT ĐỘNG ĐƯỢC\n",
    "                   BÊN DƯỚI LÀ  PHẦN THIẾT KẾ ỨNG VỚI MỤC I. THIẾT KẾ GIAO DIỆN VỚI TKINTER'''\n",
    "#------------------------------------------------------------------------------------------------------------------------------------------------\n",
    "#------------------------------------------------------------------------------------------------------------------------------------------------\n",
    "# Phần thêm module hỗ trợ đã chuyển lên trên cùng.\n",
    "#------------------------------------------------------------------------------------------------------------------------------------------------\n",
    "# Khởi tạo biến chứa cửa sổ chính, dưới đây window là tên biến (có thể đổi tên khác tùy thích,root chẳn hạn, vietnam chẳn hạn.)\n",
    "window=tk.Tk()\n",
    "#------------------------------------------------------------------------------------------------------------------------------------------------\n",
    "################## Bắt đầu thiết kế cửa sổ \n",
    "window.title(\"Ingredients Management System\") #Tạo tiêu đề cho cửa sổ\n",
    "window.geometry(\"300x150+500+200\")# Cửa sổ ngang 300 pixel, cao 150 pixel, cách trái 500 pixel, cách trên 200 pixel.\n",
    "window.configure(background=\"dark green\")# đặt nền của window là màu xanh lá - đậm. (light - sáng)\n",
    "window.resizable(width=False,height=False)# không cho thay đổi kích thước cửa sổ\n",
    "################## Kết thúc thiết kế cửa sổ \n",
    "#------------------------------------------------------------------------------------------------------------------------------------------------\n",
    "################## Bắt đầu thiết kế label\n",
    "'''Thiết kế label gồm 2 bước: \n",
    "    bước1: tạo label\n",
    "    bước2: đưa label lên cửa sổ bằng'''\n",
    "d=5\n",
    "lbl_name=tk.Label(window,text=\"Name:\",width=10,bg=\"cyan\") #Tạo 1 widget là label có nhãn là Name, lưu vào biến lbl_name\n",
    "lbl_name.grid(row=0,column=0,padx=d,pady=d,sticky=\"E\") # Đưa widget lbl_name lên lưới tại tọa độ như mô tả ở đầu bài. CHÚ Ý LỆNH NÀY (PADx PADy)\n",
    "\n",
    "lbl_quantity=tk.Label(window,text=\"Quantity:\",width=10,bg=\"cyan\") #Tạo 1 widget là label có nhãn là Quantity, lưu vào biến lbl_quantity\n",
    "lbl_quantity.grid(row=1,column=0,padx=d,pady=d,sticky=\"E\") # Đưa widget lbl_quantity lên lưới tại tọa độ như mô tả ở đầu bài.\n",
    "################## Kết thúc thiết kế label\n",
    "#------------------------------------------------------------------------------------------------------------------------------------------------\n",
    "################## Bắt đầu thiết kế Entry\n",
    "ent_name=tk.Entry(window,bg=\"light green\")\n",
    "ent_name.grid(row=0,column=1,padx=0,pady=d)\n",
    "\n",
    "ent_quantity=tk.Entry(window,bg=\"light green\")\n",
    "ent_quantity.grid(row=1,column=1,padx=0,pady=d)\n",
    "\n",
    "ent_search=tk.Entry(window)\n",
    "ent_search.grid(row=3,column=0,padx=d,pady=d)\n",
    "################## Kết thúc thiết kế Entry\n",
    "#------------------------------------------------------------------------------------------------------------------------------------------------\n",
    "################## Bắt đầu thiết kế Button\n",
    "btn_add=tk.Button(window,text=\"Add\",bg=\"pink\",width=6,command=add_ingredient)\n",
    "btn_add.grid(row=2,column=0,padx=d,pady=d,sticky=\"E\") # căn sát lề phải trong 1 cell của grid\n",
    "\n",
    "btn_delete=tk.Button(window,text=\"Delete\",bg=\"pink\",width=6,command=del_ingredient) \n",
    "btn_delete.grid(row=2,column=1,padx=0,pady=d,sticky=\"W\") # căn sát lề trái trong 1 cell của grid\n",
    "\n",
    "btn_search=tk.Button(window,text=\"Search\",bg=\"pink\",width=6,command=search_ingredient) \n",
    "btn_search.grid(row=3,column=1,padx=0,pady=d,sticky=\"W\")\n",
    "\n",
    "btn_reset=tk.Button(window,text=\"Reset\",bg=\"pink\",width=6)\n",
    "btn_reset.grid(row=2,column=1,sticky=\"E\")\n",
    "\n",
    "btn_update=tk.Button(window,text=\"Update\",bg=\"pink\",width=6,command=update_ingredient) # Kết thúc hoạt động 6b. HÃY CHẠY THỬ - CTRL+ENTER\n",
    "btn_update.grid(row=3,column=1,sticky=\"E\")\n",
    "################## Kết thúc thiết kế Button\n",
    "#------------------------------------------------------------------------------------------------------------------------------------------------\n",
    "# Bắt đầu vòng lặp sự kiện\n",
    "window.mainloop()"
   ]
  },
  {
   "cell_type": "markdown",
   "id": "e193104a-1af6-4ddf-8915-33874077e638",
   "metadata": {},
   "source": [
    "## <span style=\"color:green\">Hoạt động 7a: Viết hàm reset làm sạch giao diện cho người dùng <i><B>ingredients</B></i>:</span>\n",
    "### Mô tả hàm:  \n",
    "##### Khi nút reset được bấm thì mọi thông tin ở các entry sẽ được làm sạch."
   ]
  },
  {
   "cell_type": "code",
   "execution_count": null,
   "id": "9a20246b-4131-4ab6-aa1a-9ad6b4d24821",
   "metadata": {},
   "outputs": [],
   "source": [
    "def reset_interface():\n",
    "    ent_search.delete(0,END)\n",
    "    ent_name.delete(0,END)\n",
    "    ent_quantity.delete(0,END)"
   ]
  },
  {
   "cell_type": "markdown",
   "id": "5189af72-858e-4aba-8c61-395d70d09bf1",
   "metadata": {},
   "source": [
    "## <span style=\"color:green\">Hoạt động 7b: Thêm hàm vào nút lệnh <i><B>Reset</B></i>:</span>\n",
    "Tìm kiếm nút lệnh btn_reset thêm vào command=reset_interface"
   ]
  },
  {
   "cell_type": "markdown",
   "id": "785a1137-ddd5-4798-a344-1b3aed53e1b7",
   "metadata": {},
   "source": [
    "### <span style=\"color: red\">Bài code sau khi thêm hoạt động 7a và 7b:</span>"
   ]
  },
  {
   "cell_type": "code",
   "execution_count": 12,
   "id": "372b5426-948b-4775-b1dc-70600ada4c8e",
   "metadata": {},
   "outputs": [],
   "source": [
    "#Thêm module hỗ trợ luôn phải ở trên cùng\n",
    "import tkinter as tk\n",
    "from tkinter import messagebox,END #Do không dùng from tkinter import * nên nếu không khai báo END ở đây bài chạy sẽ lỗi.\n",
    "#------------------------------------------------------------------------------------------------------------------------------------------------\n",
    "##################### Bắt đầu hoạt động 1: Tạo class để quản lý đối tượng\n",
    "class Ingredient: # Đặt tên là Ingredeint vì bài cần quản lý đối tượng là các nguyên liệu\n",
    "    def __init__(self,name,quantity):\n",
    "        self.name=name #Tên nguyên liệu\n",
    "        self.quantity=quantity #Số lượng nguyên liệu\n",
    "##################### Kết thúc hoạt động 1: Tạo class để quản lý đối tượng\n",
    "#------------------------------------------------------------------------------------------------------------------------------------------------\n",
    "##################### Bắt đầu hoạt động 2: Tạo danh sách để lưu trữ các đối tượng\n",
    "ingredients=[]  #các nguyên liệu sẽ chứa trong list này.\n",
    "##################### Kết thúc hoạt động 2: Tạo danh sách để lưu trữ các đối tượng\n",
    "#------------------------------------------------------------------------------------------------------------------------------------------------\n",
    "##################### Bắt đầu hoạt động 3a: Viết hàm cho nút Add\n",
    "def add_ingredient():\n",
    "    # Nhiệm vụ chính của hàm:\n",
    "    name_ingredient = ent_name.get() #lấy data từ widget tên ent_name đã thiết kế ở phần I.            (**)\n",
    "    is_exist=False # Biến phát hiện tên đối tượng đã tồn tại chưa, nếu đã tồn tại thì bật lên True\n",
    "    ########## Kiểm tra sự tồn tại của đối tượng.\n",
    "    for item in ingredients:\n",
    "        if item.name == name_ingredient.upper():\n",
    "            is_exist=True # Phát hiện có thì bật True\n",
    "            break # Thoát ra khi đã phát hiện sự tồn tại của đối tượng.\n",
    "    if is_exist: # is_exist là True = đối tượng đang tồn tại\n",
    "        messagebox.showinfo(\"Add Ingredient\",f\"{name_ingredient} already exists in the list, cannot be added.\\nYou can update it if you need to modify the information.\")\n",
    "    else: #Nếu is_exist False = chưa có đối tượng trong danh sách thì thực hiện thêm vào:\n",
    "        quantity_ingredient = ent_quantity.get() #lấy data từ widget tên ent_quantity đã thiết kế ở phần I.\n",
    "        quantity_ingredient = int(quantity_ingredient) #chuyển nó thành số, giả sử rằng tất cả đều ở dạng số nguyên.\n",
    "        new_ingredient = Ingredient(name_ingredient.upper(),quantity_ingredient) # Gọi class Ingredient để tạo đối tượng mới new_ingredient.\n",
    "        ingredients.append(new_ingredient) #Thêm đối tượng new_ingredient vào danh sách ingredients \n",
    "        ent_name.delete(0,END)     # xóa nội dung ở ent_name, chuẩn bị cho người dùng nhập tên nguyên liệu mới.\n",
    "        ent_quantity.delete(0,END) # xóa nội dung ở ent_quantity, chuẩn bị cho người dùng nhập số lượng mới.\n",
    "    \n",
    "        # Nhiệm vụ phụ - in ra danh sách tên của các đối tượng để bản thân người lập trình dễ kiểm tra.\n",
    "        print([item.name for item in ingredients])\n",
    "\n",
    "        #Nhiệm vụ phụ nhưng quan trọng - quan tâm cảm xúc người dùng\n",
    "        #Hiển thị 1 hộp thông báo cho cho người dùng biết thông tinh của họ đã được lưu, điều này giúp người dùng an tâm là data đã được lưu.\n",
    "        messagebox.showinfo(\"Add Ingredient\",f\"{name_ingredient} is added successfully.\")\n",
    "                # \"Add Ingredient\": tên của hộp thông báo.\n",
    "                # f\"{name_ingredient} is added successfully.\" : nội dung cần thông báo.\n",
    "                    # {name_ingredient} : tên của nguyên liệu mà hàm đang xử lý. xem dòng đầu của hàm này, chỗ đánh dấu (**) cuối dòng.\n",
    "##################### Kết thúc hoạt động 3a: Viết hàm cho nút Add\n",
    "##################### Xuống thực hiện command cho nút Add (btn_add) để kết thúc luôn hoạt động 3b trước khi làm việc khác.\n",
    "#------------------------------------------------------------------------------------------------------------------------------------------------\n",
    "##################### Bắt đầu hoạt động 4a: Viết hàm cho nút Delete\n",
    "def del_ingredient():\n",
    "    name_ingredient=ent_search.get().upper() # get() để lấy tên và upper() để đổi tên sang HOA HẾT.\n",
    "    is_exist = False # Khởi tạo biến kiểm tra tồn tại là False (chưa tồn tại)\n",
    "    for item in ingredients: #Cho item duyệt qua toàn bộ danh sách các nguyên.\n",
    "        if item.name == name_ingredient: # Nếu nguyên liệu có tồn tại thì\n",
    "            is_exist=True # bật biến kiểm tra lên True.\n",
    "            break # không cần kiểm hết danh sách khi đã phát hiện có sự tồn tại của đối tượng\n",
    "    if is_exist: # Đối tượng có tồn tại\n",
    "        messagebox.showinfo(\"Delete Ingredient\",f\"{name_ingredient} is deleted successfully.\")\n",
    "        ingredients.remove(item)  # Thực hiện xóa:        \n",
    "    else: # Đối tượng không tồn tại\n",
    "        messagebox.showinfo(\"Delete Ingredient\",f\"{name_ingredient} is not found.\")\n",
    "##################### Kết thúc hoạt động 4a: Viết hàm cho nút Delete\n",
    "##################### Xuống thực hiện command cho nút Delete (btn_delete) để kết thúc 4b trước khi làm việc khác.\n",
    "#------------------------------------------------------------------------------------------------------------------------------------------------\n",
    "##################### Bắt đầu hoạt động 5a: Viết hàm cho nút Search\n",
    "def search_ingredient():\n",
    "    name_ingredient=ent_search.get() # lấy tên của ingredient từ nút ent_search\n",
    "    name_ingredient=name_ingredient.upper() # đổi tên thành HOA HẾT\n",
    "    is_exist=False # bật biến kiểm tra là False ( đối tượng chưa tồn tại)\n",
    "    for item in ingredients:\n",
    "        if item.name == name_ingredient:\n",
    "            is_exist=True # bật biến kiểm tra là True ( đối tượng có tồn tại)\n",
    "            break # có tồn tại thì khỏi kiểm tra nữa\n",
    "    if is_exist:\n",
    "        messagebox.showinfo(\"Search Ingredient\",f\"Name: {item.name}. Quantity: {item.quantity}\")\n",
    "    else:\n",
    "        messagebox.showinfo(\"Search Ingredient\",f\"{name_ingredient} is not found.\")\n",
    "##################### Kết thúc hoạt động 5a: Viết hàm cho nút Search\n",
    "##################### Xuống thực hiện command cho nút Search (btn_search) để kết thúc 5b trước khi làm việc khác.\n",
    "#------------------------------------------------------------------------------------------------------------------------------------------------\n",
    "##################### Bắt đầu hoạt động 6a: Viết hàm cho nút Update\n",
    "def update_ingredient():\n",
    "    name_ingredient=ent_name.get().upper()\n",
    "    is_exist=False\n",
    "    for item in ingredients:\n",
    "        if item.name==name_ingredient:\n",
    "            is_exist=True\n",
    "            break\n",
    "    if is_exist: # Đối tượng có trong danh sách\n",
    "        info=f\"Before update. Name:{item.name}, quantity: {item.quantity}\"\n",
    "        item.quantity=int(ent_quantity.get()) #giả sử số lượng luôn là số nguyên\n",
    "        info+=f\"\\nAfter update. Name: {item.name}, quantity: {item.quantity}.\"\n",
    "        messagebox.showinfo(\"Update Ingredient\",info)\n",
    "    else:\n",
    "        messagebox.showinfo(\"Update Ingredient\",f\"{name_ingredient} is not found.\")\n",
    "##################### Kết thúc hoạt động 6a: Viết hàm cho nút Update\n",
    "##################### Xuống thực hiện command cho nút Update (btn_update) để kết thúc 6b trước khi làm việc khác.\n",
    "#------------------------------------------------------------------------------------------------------------------------------------------------\n",
    "##################### Bắt đầu hoạt động 7a: Viết hàm cho nút Reset\n",
    "def reset_interface():\n",
    "    ent_search.delete(0,END)\n",
    "    ent_name.delete(0,END)\n",
    "    ent_quantity.delete(0,END)\n",
    "##################### Kết thúc hoạt động 7a: Viết hàm cho nút Reset\n",
    "##################### Xuống thực hiện command cho nút Reset (btn_reset) để kết thúc 7b trước khi làm việc khác.\n",
    "#------------------------------------------------------------------------------------------------------------------------------------------------\n",
    "#------------------------------------------------------------------------------------------------------------------------------------------------\n",
    "'''               BÊN TRÊN LÀ PHẦN VIẾT CODE ỨNG VỚI MỤC II. VIÊT CODE - THỔI HỒN VÀO GIAO DIỆN - LÀM GIAO DIỆN HOẠT ĐỘNG ĐƯỢC\n",
    "                   BÊN DƯỚI LÀ  PHẦN THIẾT KẾ ỨNG VỚI MỤC I. THIẾT KẾ GIAO DIỆN VỚI TKINTER'''\n",
    "#------------------------------------------------------------------------------------------------------------------------------------------------\n",
    "#------------------------------------------------------------------------------------------------------------------------------------------------\n",
    "# Phần thêm module hỗ trợ đã chuyển lên trên cùng.\n",
    "#------------------------------------------------------------------------------------------------------------------------------------------------\n",
    "# Khởi tạo biến chứa cửa sổ chính, dưới đây window là tên biến (có thể đổi tên khác tùy thích,root chẳn hạn, vietnam chẳn hạn.)\n",
    "window=tk.Tk()\n",
    "#------------------------------------------------------------------------------------------------------------------------------------------------\n",
    "################## Bắt đầu thiết kế cửa sổ \n",
    "window.title(\"Ingredients Management System\") #Tạo tiêu đề cho cửa sổ\n",
    "window.geometry(\"300x150+500+200\")# Cửa sổ ngang 300 pixel, cao 150 pixel, cách trái 500 pixel, cách trên 200 pixel.\n",
    "window.configure(background=\"dark green\")# đặt nền của window là màu xanh lá - đậm. (light - sáng)\n",
    "window.resizable(width=False,height=False)# không cho thay đổi kích thước cửa sổ\n",
    "################## Kết thúc thiết kế cửa sổ \n",
    "#------------------------------------------------------------------------------------------------------------------------------------------------\n",
    "################## Bắt đầu thiết kế label\n",
    "'''Thiết kế label gồm 2 bước: \n",
    "    bước1: tạo label\n",
    "    bước2: đưa label lên cửa sổ bằng'''\n",
    "d=5\n",
    "lbl_name=tk.Label(window,text=\"Name:\",width=10,bg=\"cyan\") #Tạo 1 widget là label có nhãn là Name, lưu vào biến lbl_name\n",
    "lbl_name.grid(row=0,column=0,padx=d,pady=d,sticky=\"E\") # Đưa widget lbl_name lên lưới tại tọa độ như mô tả ở đầu bài. CHÚ Ý LỆNH NÀY (PADx PADy)\n",
    "\n",
    "lbl_quantity=tk.Label(window,text=\"Quantity:\",width=10,bg=\"cyan\") #Tạo 1 widget là label có nhãn là Quantity, lưu vào biến lbl_quantity\n",
    "lbl_quantity.grid(row=1,column=0,padx=d,pady=d,sticky=\"E\") # Đưa widget lbl_quantity lên lưới tại tọa độ như mô tả ở đầu bài.\n",
    "################## Kết thúc thiết kế label\n",
    "#------------------------------------------------------------------------------------------------------------------------------------------------\n",
    "################## Bắt đầu thiết kế Entry\n",
    "ent_name=tk.Entry(window,bg=\"light green\")\n",
    "ent_name.grid(row=0,column=1,padx=0,pady=d)\n",
    "\n",
    "ent_quantity=tk.Entry(window,bg=\"light green\")\n",
    "ent_quantity.grid(row=1,column=1,padx=0,pady=d)\n",
    "\n",
    "ent_search=tk.Entry(window)\n",
    "ent_search.grid(row=3,column=0,padx=d,pady=d)\n",
    "################## Kết thúc thiết kế Entry\n",
    "#------------------------------------------------------------------------------------------------------------------------------------------------\n",
    "################## Bắt đầu thiết kế Button\n",
    "btn_add=tk.Button(window,text=\"Add\",bg=\"pink\",width=6,command=add_ingredient)\n",
    "btn_add.grid(row=2,column=0,padx=d,pady=d,sticky=\"E\") # căn sát lề phải trong 1 cell của grid\n",
    "\n",
    "btn_delete=tk.Button(window,text=\"Delete\",bg=\"pink\",width=6,command=del_ingredient) \n",
    "btn_delete.grid(row=2,column=1,padx=0,pady=d,sticky=\"W\") # căn sát lề trái trong 1 cell của grid\n",
    "\n",
    "btn_search=tk.Button(window,text=\"Search\",bg=\"pink\",width=6,command=search_ingredient) \n",
    "btn_search.grid(row=3,column=1,padx=0,pady=d,sticky=\"W\")\n",
    "\n",
    "btn_reset=tk.Button(window,text=\"Reset\",bg=\"pink\",width=6,command=reset_interface) # Kết thúc hoạt động 7b. HÃY CHẠY THỬ - CTRL+ENTER\n",
    "btn_reset.grid(row=2,column=1,sticky=\"E\")\n",
    "\n",
    "btn_update=tk.Button(window,text=\"Update\",bg=\"pink\",width=6,command=update_ingredient) \n",
    "btn_update.grid(row=3,column=1,sticky=\"E\")\n",
    "################## Kết thúc thiết kế Button\n",
    "#------------------------------------------------------------------------------------------------------------------------------------------------\n",
    "# Bắt đầu vòng lặp sự kiện\n",
    "window.mainloop()"
   ]
  },
  {
   "cell_type": "markdown",
   "id": "84f9212f-34da-43b0-8e76-c68dc2aa8e12",
   "metadata": {},
   "source": [
    "## <span style=\"color:red\">HOÀN THÀNH MINI PROJECT</span>"
   ]
  },
  {
   "cell_type": "markdown",
   "id": "ef2c9ce5-7234-42bd-b334-557350b2930a",
   "metadata": {},
   "source": [
    "# <span style='color:red'>III. PHỤ LỤC - TÌM HIỂU THÊM VỀ CÁC LỆNH TKINTER ĐÃ DÙNG</span>"
   ]
  },
  {
   "cell_type": "markdown",
   "id": "e54f04e3-c6bb-4a87-b15d-6e2c457652c1",
   "metadata": {},
   "source": [
    "## <span style=\"color:green\">Thêm mô đun tkinter</span>\n",
    "Dưới đây là cách <span style=\"color:red\">khai báo tiêu chuẩn</span>, tk là tên tắt (<b>bí danh</b>) của tkinter để lệnh bớt rối.  \n",
    "Từ thời điểm này, tk là tên dành riêng của tkinter, đặt tên cho các đối tượng khác hãy tránh tk ra."
   ]
  },
  {
   "cell_type": "code",
   "execution_count": null,
   "id": "7941ba57-3da6-400d-82bd-13447d7dad4f",
   "metadata": {},
   "outputs": [],
   "source": [
    "import tkinter as tk"
   ]
  },
  {
   "cell_type": "markdown",
   "id": "0b718201-1cc4-412f-a372-23606777f444",
   "metadata": {},
   "source": [
    "#### cách khai báo khác:\n",
    "from tkinter import *  \n",
    "ưu điểm: cách viết lệnh gọn. thay vì viết tk.Tk() chỉ cần viết Tk() là đủ.  \n",
    "nhược điểm: có thể gây xung đột với lệnh ở module khác (nếu bài sử dụng nhiều module).  \n",
    "#### Một số cách khai báo và sử dụng tkinter:"
   ]
  },
  {
   "cell_type": "code",
   "execution_count": null,
   "id": "1da5cb9f-1792-4d52-a64e-7c4a2411f842",
   "metadata": {},
   "outputs": [],
   "source": [
    "import tkinter\n",
    "root1 = tkinter.Tk()\n",
    "\n",
    "import tkinter as tk\n",
    "root2 = tk.Tk()\n",
    "\n",
    "from tkinter import Tk\n",
    "root3 = Tk()\n",
    "\n",
    "from tkinter import Button\n",
    "button = Button(root3, text=\"Click me\")\n",
    "\n",
    "from tkinter import messagebox\n",
    "messagebox.showinfo(\"Title\", \"Message\")\n",
    "\n",
    "from tkinter import *\n",
    "label = Label(root1, text=\"Hello, Tkinter!\")\n"
   ]
  },
  {
   "cell_type": "markdown",
   "id": "433e4e0a-7661-4ffc-acb1-b2db9662a444",
   "metadata": {},
   "source": [
    "## <span style=\"color:green\">Cú pháp đầy đủ của phương thức geometry:</span>"
   ]
  },
  {
   "cell_type": "code",
   "execution_count": null,
   "id": "206cf09d-1527-41f8-9636-ef31011398b1",
   "metadata": {},
   "outputs": [],
   "source": [
    "window.geometry(\"widthxheight+x_offset+y_offset\")"
   ]
  },
  {
   "cell_type": "markdown",
   "id": "f89fe23a-dcd0-48e6-8834-58ae110a566a",
   "metadata": {},
   "source": [
    "### Giải thích các thành phần:\n",
    ">* width: Chiều rộng của cửa sổ (đơn vị pixels).  \n",
    ">* height: Chiều cao của cửa sổ (đơn vị pixels).  \n",
    ">* x_offset: Khoảng cách từ cạnh trái của màn hình đến cạnh trái của cửa sổ (đơn vị pixels, tùy chọn).  \n",
    ">* y_offset: Khoảng cách từ cạnh trên của màn hình đến cạnh trên của cửa sổ (đơn vị pixels, tùy chọn).  "
   ]
  },
  {
   "cell_type": "markdown",
   "id": "e2c7d576-db5e-4adc-9d4a-941b1a713d8b",
   "metadata": {},
   "source": [
    "## <span style=\"color:green\">Cú pháp đầy đủ của lớp Label:</span>"
   ]
  },
  {
   "cell_type": "code",
   "execution_count": null,
   "id": "cd0eb854-9798-4913-88b2-3a743ad65eab",
   "metadata": {},
   "outputs": [],
   "source": [
    "lbl_name = tk.Label(parent, options)"
   ]
  },
  {
   "cell_type": "markdown",
   "id": "5e96654c-686c-465e-9d28-792a7f820999",
   "metadata": {
    "jp-MarkdownHeadingCollapsed": true
   },
   "source": [
    "#### Trong đó:\n",
    ">* <B>parent</B> là cửa sổ hoặc Frame mà nhãn sẽ được đặt vào.  \n",
    ">* <B>options</B> là các tùy chọn để tùy chỉnh tính năng và giao diện của nhãn, như văn bản, màu sắc, font chữ, v.v.\n",
    ">* <B>Tùy chọn phổ biến cho options:</B>\n",
    ">>  1. <B>text:</B> Đặt hoặc thay đổi văn bản hiển thị trong nhãn.  \n",
    ">>  2. <B>image:</B> Hiển thị hình ảnh trong nhãn.  \n",
    ">>  3. <B>bg hoặc background:</B> Đặt màu nền của nhãn.  \n",
    ">>  4. <B>fg hoặc foreground:</B> Đặt màu chữ của văn bản.  \n",
    ">>  5. <B>font:</B> Đặt phông chữ cho văn bản.  \n",
    ">>  6. <B>width và height:</B> Đặt kích thước của nhãn (theo số lượng ký tự hoặc pixels).  \n",
    ">>  7. <B>anchor:</B> Đặt vị trí neo (anchor point) của nhãn khi nó có kích thước lớn hơn vùng chứa của nó.  \n",
    ">>  8. <B>justify:</B> Điều chỉnh văn bản theo cách thức xác định (trái, phải, giữa).  \n",
    ">>  9. <B>padx và pady:</B> Đặt đệm (padding) theo chiều ngang và chiều dọc của nhãn.  \n",
    ">> 10. <B>relief:</B> Đặt kiểu viền của nhãn (FLAT, RAISED, SUNKEN, GROOVE, RIDGE).  \n",
    ">> 11. <B>cursor:</B> Đặt kiểu con trỏ chuột khi nó di chuyển qua nhãn.  \n",
    ">> 12. <B>wraplength:</B> Đặt chiều dài tối đa của dòng và sử dụng chia dòng tự động.  \n",
    ">> 13. <B>state:</B> Đặt trạng thái của nhãn (NORMAL, DISABLED).  \n",
    ">> 14. <B>underline:</B> Đặt chỉ số của ký tự được gạch chân trong văn bản.  \n",
    ">> 15. <B>compound:</B> Kết hợp hình ảnh và văn bản trong nhãn (TOP, BOTTOM, LEFT, RIGHT).  "
   ]
  },
  {
   "cell_type": "markdown",
   "id": "eafb7511-5faf-4bdc-8763-ef3079834f79",
   "metadata": {},
   "source": [
    "## <span style=\"color:green\">Cú pháp phương thức grid():</span>"
   ]
  },
  {
   "cell_type": "code",
   "execution_count": null,
   "id": "01dc58ac-5224-4649-b217-dcbdcd43a961",
   "metadata": {},
   "outputs": [],
   "source": [
    "widget.grid(options)"
   ]
  },
  {
   "cell_type": "markdown",
   "id": "1a7a3f58-c4f1-427a-b8d3-f95aa7934fd3",
   "metadata": {},
   "source": [
    "<B>Các tùy chọn phổ biến của options:</B>  \n",
    "> 1. <B>row:</B> Xác định hàng của lưới mà widget sẽ được đặt.  \n",
    "> 2. <B>column:</B> Xác định cột của lưới mà widget sẽ được đặt.  \n",
    "> 3. <B>sticky:</B> Xác định cách widget mở rộng để điền vào ô của lưới. Nếu widget lớn hơn ô, sticky xác định hướng mà widget mở rộng.  \n",
    "> 4. <B>padx và pady:</B> Đặt đệm (padding) theo chiều ngang và chiều dọc của widget.  \n",
    "> 5. <B>ipadx và ipady:</B> Đặt đệm (internal padding) trong widget (nội bộ).  \n",
    "> 6. <B>columnspan và rowspan:</B> Xác định số cột hoặc hàng mà widget sẽ chiếm trong lưới.  \n",
    "> 7. <B>ipadx và ipady:</B> Đặt đệm (internal padding) trong widget (nội bộ).\n",
    "\n",
    "<B>Tùy chọn sticky cho định vị widget ở các cạnh của ô trong lưới hoặc kéo dài widget để lấp đầy toàn bộ ô trong lưới.  \n",
    "Các giá trị có thể được sử dụng cho sticky bao gồm các hướng:</B> \n",
    ">* N (North, phía trên)  \n",
    ">* S (South, phía dưới)  \n",
    ">* E (East, phía phải)  \n",
    ">* W (West, phía trái)  \n",
    ">* Bỏ trống là ở giữa (mặc định)  \n",
    ">* Kết hợp các hướng trên để tạo ra các kết quả căn lề khác nhau.  \n",
    "\n",
    "### Ví dụ 1:"
   ]
  },
  {
   "cell_type": "code",
   "execution_count": 59,
   "id": "7b0dfdb2-ea20-4ee3-80aa-90b9b61e3d30",
   "metadata": {},
   "outputs": [],
   "source": [
    "import tkinter as tk\n",
    "\n",
    "# Tạo cửa sổ chính\n",
    "window = tk.Tk()\n",
    "\n",
    "# Tạo các nhãn và đặt chúng vào lưới\n",
    "label1 = tk.Label(window, text=\"Label 1\")\n",
    "label1.grid(row=0, column=0)\n",
    "\n",
    "label2 = tk.Label(window, text=\"Label 2\")\n",
    "label2.grid(row=0, column=1)\n",
    "\n",
    "label3 = tk.Label(window, text=\"Label 3\")\n",
    "label3.grid(row=1, column=0, columnspan=2)\n",
    "\n",
    "# Bắt đầu vòng lặp sự kiện\n",
    "window.mainloop()\n"
   ]
  },
  {
   "attachments": {
    "4b5323cd-dc24-4113-b30f-b83f6eb41012.png": {
     "image/png": "[encoded data removed]"
    }
   },
   "cell_type": "markdown",
   "id": "8cf26995-4a45-4f5f-90e5-d2fba435c7bf",
   "metadata": {},
   "source": [
    "### Kết quả\n",
    "\n",
    "![image.png](attachment:4b5323cd-dc24-4113-b30f-b83f6eb41012.png)"
   ]
  },
  {
   "cell_type": "markdown",
   "id": "6e9eefd6-80e2-4595-9331-4c0f2f82678b",
   "metadata": {},
   "source": [
    "#### Trong ví dụ này:\n",
    ">* label1 được đặt ở hàng 0, cột 0.\n",
    ">* label2 được đặt ở hàng 0, cột 1.\n",
    ">* label3 được đặt ở hàng 1, bắt đầu từ cột 0 và chiếm 2 cột (do columnspan=2).\n",
    "### Ví dụ 2:"
   ]
  },
  {
   "cell_type": "code",
   "execution_count": 94,
   "id": "f0f148a6-d444-4924-b908-c456a5763c41",
   "metadata": {},
   "outputs": [],
   "source": [
    "import tkinter as tk\n",
    "\n",
    "# Tạo cửa sổ chính\n",
    "window = tk.Tk()\n",
    "window.title(\"Grid Sticky Example\")\n",
    "\n",
    "# Tạo các widget và đặt chúng vào lưới với các tùy chọn sticky khác nhau\n",
    "label1 = tk.Label(window, text=\"Top-Left\")\n",
    "label1.grid(row=0, column=0, sticky=\"NW\")  # Căn lề trên-trái\n",
    "\n",
    "label2 = tk.Label(window, text=\"Top-Center\")\n",
    "label2.grid(row=0, column=1, sticky=\"N\")  # Căn lề trên\n",
    "\n",
    "label3 = tk.Label(window, text=\"Top-Right\")\n",
    "label3.grid(row=0, column=2, sticky=\"NE\")  # Căn lề trên-phải\n",
    "\n",
    "label4 = tk.Label(window, text=\"Center-Left\")\n",
    "label4.grid(row=1, column=0, sticky=\"W\")  # Căn lề trái\n",
    "\n",
    "label5 = tk.Label(window, text=\"Center-Center\")\n",
    "label5.grid(row=1, column=1, sticky=\"\")  # Mặc định là ở giữa\n",
    "\n",
    "label6 = tk.Label(window, text=\"Center-Right\")\n",
    "label6.grid(row=1, column=2, sticky=\"E\")  # Căn lề phải\n",
    "\n",
    "label7 = tk.Label(window, text=\"Bottom-Left\")\n",
    "label7.grid(row=2, column=0, sticky=\"SW\")  # Căn lề dưới-trái\n",
    "\n",
    "label8 = tk.Label(window, text=\"Bottom-Center\")\n",
    "label8.grid(row=2, column=1, sticky=\"S\")  # Căn lề dưới\n",
    "\n",
    "label9 = tk.Label(window, text=\"Bottom-Right\")\n",
    "label9.grid(row=2, column=2, sticky=\"SE\")  # Căn lề dưới-phải\n",
    "\n",
    "# Bắt đầu vòng lặp sự kiện\n",
    "window.mainloop()\n"
   ]
  },
  {
   "attachments": {
    "75e9e2d9-fae6-4bf2-9641-c6189a9e1ef9.png": {
     "image/png": "[encoded data removed]"
    }
   },
   "cell_type": "markdown",
   "id": "a171c4ee-b6f0-4faa-aee7-c37e5c5fba2d",
   "metadata": {},
   "source": [
    "### Kết quả:\n",
    "\n",
    "![image.png](attachment:75e9e2d9-fae6-4bf2-9641-c6189a9e1ef9.png)"
   ]
  },
  {
   "cell_type": "markdown",
   "id": "1b2aff92-dd48-44a7-8227-e73f6a905fcc",
   "metadata": {},
   "source": [
    "## <span style=\"color:green\">Cú pháp lớp Entry:</span>"
   ]
  },
  {
   "cell_type": "code",
   "execution_count": null,
   "id": "e7b533b1-0832-4aad-a386-94fa2c011918",
   "metadata": {},
   "outputs": [],
   "source": [
    "ent_name = tk.Entry(parent, option=value, ...)"
   ]
  },
  {
   "cell_type": "markdown",
   "id": "0a1db80d-77cd-4b18-b1b4-f4dff3b4054d",
   "metadata": {},
   "source": [
    "### Tham số:\n",
    ">* parent: Là widget cha chứa đối tượng Entry, thường là một cửa sổ hoặc Frame.  \n",
    ">* Các tùy chọn option:  \n",
    ">>  1. bg hoặc background: Màu nền của Entry.  \n",
    ">>  2. bd hoặc borderwidth: Độ rộng của viền Entry.  \n",
    ">>  3. cursor: Kiểu con trỏ chuột khi di chuyển qua Entry.  \n",
    ">>  4. exportselection: Cho phép hoặc ngăn cản việc sao chép nội dung đã chọn vào clipboard.  \n",
    ">>  5. fg hoặc foreground: Màu chữ của văn bản trong Entry.  \n",
    ">>  6. font: Font chữ sử dụng trong Entry.  \n",
    ">>  7. highlightbackground: Màu viền của Entry khi không được chọn.  \n",
    ">>  8. highlightcolor: Màu viền của Entry khi được chọn.  \n",
    ">>  9. highlightthickness: Độ dày của viền khi được chọn.  \n",
    ">> 10. insertbackground: Màu của con trỏ nhấp nháy trong Entry.  \n",
    ">> 11. insertborderwidth: Độ rộng của viền con trỏ nhấp nháy.  \n",
    ">> 12. insertofftime: Thời gian con trỏ nhấp nháy sẽ tắt (theo milliseconds).  \n",
    ">> 13. insertontime: Thời gian con trỏ nhấp nháy sẽ bật (theo milliseconds).  \n",
    ">> 14. insertwidth: Độ rộng của con trỏ nhấp nháy.  \n",
    ">> 15. justify: Căn chỉnh văn bản trong Entry (LEFT, CENTER, RIGHT).  \n",
    ">> 16. relief: Kiểu viền của Entry (FLAT, RAISED, SUNKEN, GROOVE, RIDGE).  \n",
    ">> 17. selectbackground: Màu nền của văn bản được chọn.  \n",
    ">> 18. selectborderwidth: Độ rộng của viền văn bản được chọn.  \n",
    ">> 19. selectforeground: Màu chữ của văn bản được chọn.  \n",
    ">> 20. show: Ẩn văn bản nhập vào (ví dụ: sử dụng show=\"*\" cho trường mật khẩu).  \n",
    ">> 21. state: Trạng thái của Entry (NORMAL, DISABLED, READONLY).  \n",
    ">> 22. textvariable: Biến liên kết với nội dung của Entry (thường là một tk.StringVar).  \n",
    ">> 23. width: Độ rộng của Entry (theo số lượng ký tự).  \n",
    ">> 24. xscrollcommand: Liên kết Entry với một thanh cuộn ngang (thường là phương thức set của Scrollbar).  "
   ]
  },
  {
   "cell_type": "markdown",
   "id": "ed05e132-297d-410c-888b-64910cf6c998",
   "metadata": {},
   "source": [
    "## <span style=\"color:green\">Cú pháp lớp Button:</span>"
   ]
  },
  {
   "cell_type": "code",
   "execution_count": null,
   "id": "deca29c2-a694-4b8d-a7e7-d7e1dc9cc6c2",
   "metadata": {},
   "outputs": [],
   "source": [
    "btn_name = tk.Button(parent, option=value, ...)"
   ]
  },
  {
   "cell_type": "markdown",
   "id": "fa8a44de-83b6-48fa-bcdd-a8ffd95a8f83",
   "metadata": {},
   "source": [
    "<B>Tham số:</B>  \n",
    ">* parent: Là widget cha chứa đối tượng Button, thường là một cửa sổ hoặc Frame.  \n",
    ">* Các tùy chọn:  \n",
    ">> activebackground: Màu nền của Button khi nó được kích hoạt hoặc bấm vào.  \n",
    ">> activeforeground: Màu chữ của Button khi nó được kích hoạt hoặc bấm vào.  \n",
    ">> anchor: Xác định cách căn chỉnh văn bản hoặc hình ảnh bên trong Button. Các giá trị có thể là N, NE, E, SE, S, SW, W, NW, hoặc CENTER.  \n",
    ">> bg hoặc background: Màu nền của Button.  \n",
    ">> bd hoặc borderwidth: Độ rộng của viền Button.  \n",
    ">> command: Đặt hàm sẽ được gọi khi Button được bấm.  \n",
    ">> cursor: Kiểu con trỏ chuột khi di chuyển qua Button.  \n",
    ">> disabledforeground: Màu chữ của Button khi nó bị vô hiệu hóa.  \n",
    ">> fg hoặc foreground: Màu chữ của văn bản trên Button.  \n",
    ">> font: Phông chữ sử dụng cho văn bản trên Button.  \n",
    ">> height: Chiều cao của Button (theo số lượng ký tự).  \n",
    ">> highlightbackground: Màu viền của Button khi không được chọn.  \n",
    ">> highlightcolor: Màu viền của Button khi được chọn.  \n",
    ">> highlightthickness: Độ dày của viền khi được chọn.  \n",
    ">> image: Hiển thị một hình ảnh trên Button.  \n",
    ">> justify: Điều chỉnh cách văn bản được căn chỉnh (LEFT, CENTER, RIGHT).  \n",
    ">> padx và pady: Đệm theo chiều ngang và chiều dọc bên trong Button.  \n",
    ">> relief: Kiểu viền của Button (FLAT, RAISED, SUNKEN, GROOVE, RIDGE).  \n",
    ">> state: Trạng thái của Button (NORMAL, ACTIVE, DISABLED).  \n",
    ">> text: Văn bản hiển thị trên Button.  \n",
    ">> textvariable: Biến liên kết với văn bản của Button (thường là một tk.StringVar).  \n",
    ">> underline: Đặt chỉ số của ký tự được gạch chân trong văn bản.  \n",
    ">> width: Độ rộng của Button (theo số lượng ký tự).  \n",
    ">> wraplength: Độ dài tối đa của dòng văn bản trước khi được tự động xuống dòng.  "
   ]
  }
 ],
 "metadata": {
  "kernelspec": {
   "display_name": "Python 3 (ipykernel)",
   "language": "python",
   "name": "python3"
  },
  "language_info": {
   "codemirror_mode": {
    "name": "ipython",
    "version": 3
   },
   "file_extension": ".py",
   "mimetype": "text/x-python",
   "name": "python",
   "nbconvert_exporter": "python",
   "pygments_lexer": "ipython3",
   "version": "3.11.3"
  }
 },
 "nbformat": 4,
 "nbformat_minor": 5
}
