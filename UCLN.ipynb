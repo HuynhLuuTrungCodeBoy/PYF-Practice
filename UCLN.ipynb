{
 "cells": [
  {
   "cell_type": "code",
   "execution_count": 9,
   "id": "ef123595-3721-4ac0-b8cc-1ada4ede613b",
   "metadata": {},
   "outputs": [
    {
     "name": "stdout",
     "output_type": "stream",
     "text": [
      "12\n",
      "12\n",
      "60\n",
      "36\n",
      "7\n",
      "7\n"
     ]
    }
   ],
   "source": [
    "a=60\n",
    "b=36\n",
    "def GCD(a,b):\n",
    "    if a==b:\n",
    "        return a\n",
    "    elif a>b:\n",
    "        min=b;ucln=a\n",
    "    else:\n",
    "        min=a;ucln=b\n",
    "    while min>0:\n",
    "        temp=ucln\n",
    "        ucln=min\n",
    "        min=temp%min \n",
    "    return ucln\n",
    "print(GCD(60,36))\n",
    "print(GCD(36,60))\n",
    "print(GCD(60,60))\n",
    "print(GCD(36,36))\n",
    "print(GCD(287,91))\n",
    "print(GCD(91,287))"
   ]
  },
  {
   "cell_type": "code",
   "execution_count": 10,
   "id": "b0a8800a-c136-4bf5-8a83-e614a50bf659",
   "metadata": {},
   "outputs": [
    {
     "name": "stdout",
     "output_type": "stream",
     "text": [
      "12\n",
      "12\n",
      "60\n",
      "36\n",
      "7\n",
      "7\n"
     ]
    }
   ],
   "source": [
    "a=60\n",
    "b=36\n",
    "def GCD2(a,b):\n",
    "    if a==b:\n",
    "        return a\n",
    "    elif a>b:\n",
    "        min=b;ucln=a\n",
    "    else:\n",
    "        min=a;ucln=b\n",
    "    while min>0:\n",
    "        ucln,min=min, ucln%min\n",
    "    return ucln\n",
    "print(GCD2(60,36))\n",
    "print(GCD2(36,60))\n",
    "print(GCD2(60,60))\n",
    "print(GCD2(36,36))\n",
    "print(GCD2(287,91))\n",
    "print(GCD2(91,287))"
   ]
  }
 ],
 "metadata": {
  "kernelspec": {
   "display_name": "Python 3 (ipykernel)",
   "language": "python",
   "name": "python3"
  },
  "language_info": {
   "codemirror_mode": {
    "name": "ipython",
    "version": 3
   },
   "file_extension": ".py",
   "mimetype": "text/x-python",
   "name": "python",
   "nbconvert_exporter": "python",
   "pygments_lexer": "ipython3",
   "version": "3.11.3"
  }
 },
 "nbformat": 4,
 "nbformat_minor": 5
}
