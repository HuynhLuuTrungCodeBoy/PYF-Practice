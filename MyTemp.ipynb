{
 "cells": [
  {
   "cell_type": "code",
   "execution_count": 2,
   "id": "be7f1db1-7f90-487f-81d1-dcf84c5258bf",
   "metadata": {},
   "outputs": [
    {
     "name": "stdout",
     "output_type": "stream",
     "text": [
      "I love bread and buter\n"
     ]
    }
   ],
   "source": [
    "print('I love {0} and {1}'.format('bread','buter'))"
   ]
  },
  {
   "cell_type": "code",
   "execution_count": 3,
   "id": "7c5897ee-fb7e-4262-aa2f-4921f01c7642",
   "metadata": {},
   "outputs": [
    {
     "name": "stdout",
     "output_type": "stream",
     "text": [
      "I love buter and bread\n"
     ]
    }
   ],
   "source": [
    "print('I love {1} and {0}'.format('bread','buter'))"
   ]
  },
  {
   "cell_type": "code",
   "execution_count": 6,
   "id": "23d1590b-78e7-410b-a541-a20c8775abaf",
   "metadata": {},
   "outputs": [
    {
     "name": "stdout",
     "output_type": "stream",
     "text": [
      "I love buter and bread\n"
     ]
    }
   ],
   "source": [
    "CakeList=['bread','buter']\n",
    "print('I love {1} and {0}'.format(*CakeList))"
   ]
  },
  {
   "cell_type": "code",
   "execution_count": 9,
   "id": "b8dba2d6-7e9e-4107-a17d-0de41fb11e13",
   "metadata": {},
   "outputs": [
    {
     "name": "stdout",
     "output_type": "stream",
     "text": [
      "I love bread and buter\n"
     ]
    }
   ],
   "source": [
    "CakeTuple=('bread','buter')\n",
    "print('I love {0} and {1}'.format(*CakeTuple))"
   ]
  },
  {
   "cell_type": "code",
   "execution_count": 23,
   "id": "62c4a0ea-6a73-4097-b673-5dc8c3497572",
   "metadata": {},
   "outputs": [
    {
     "name": "stdout",
     "output_type": "stream",
     "text": [
      "I love bread and buter\n"
     ]
    }
   ],
   "source": [
    "CakeDictionary={'Cake1':'bread','Cake2':'buter'}\n",
    "print(\"I love {0} and {1}\".format(*CakeDictionary.values()))"
   ]
  },
  {
   "cell_type": "code",
   "execution_count": 24,
   "id": "d14a7997-b48f-4031-98aa-5de8fed62548",
   "metadata": {},
   "outputs": [
    {
     "name": "stdout",
     "output_type": "stream",
     "text": [
      "Hello!\n",
      "My name is Trung\n"
     ]
    }
   ],
   "source": [
    "my_string='''Hello!\n",
    "My name is Trung'''\n",
    "print(my_string)"
   ]
  },
  {
   "cell_type": "code",
   "execution_count": 25,
   "id": "036daaf6-cd8b-476c-b078-1c2c3f7b48fc",
   "metadata": {},
   "outputs": [
    {
     "name": "stdout",
     "output_type": "stream",
     "text": [
      "\n",
      "Nam Quốc Sơn Hà Nam Đế Cư,\n",
      "Tiệt nhiên phân định tại thiên thư,\n",
      "Như hà nghịch lỗ lai xâm phạm,\n",
      "Nhữ đẳng hành khan thủ bại hư.\n"
     ]
    }
   ],
   "source": [
    "TuyenNgonDocLap=\"\"\"\n",
    "Nam Quốc Sơn Hà Nam Đế Cư,\n",
    "Tiệt nhiên phân định tại thiên thư,\n",
    "Như hà nghịch lỗ lai xâm phạm,\n",
    "Nhữ đẳng hành khan thủ bại hư.\"\"\"\n",
    "print(TuyenNgonDocLap)"
   ]
  },
  {
   "cell_type": "code",
   "execution_count": 26,
   "id": "a2c1079e-3ffc-4af9-83dd-60e6c42bdbef",
   "metadata": {},
   "outputs": [
    {
     "name": "stdout",
     "output_type": "stream",
     "text": [
      "This is a \n",
      "good example\n"
     ]
    }
   ],
   "source": [
    "print(\"This is \\x61 \\ngood example\")"
   ]
  },
  {
   "cell_type": "code",
   "execution_count": 27,
   "id": "eb3bfd93-f345-46ed-8a19-540816381f0d",
   "metadata": {},
   "outputs": [
    {
     "name": "stdout",
     "output_type": "stream",
     "text": [
      "This is \\x61 \\ngood example\n"
     ]
    }
   ],
   "source": [
    "print(r\"This is \\x61 \\ngood example\")"
   ]
  }
 ],
 "metadata": {
  "kernelspec": {
   "display_name": "Python 3 (ipykernel)",
   "language": "python",
   "name": "python3"
  },
  "language_info": {
   "codemirror_mode": {
    "name": "ipython",
    "version": 3
   },
   "file_extension": ".py",
   "mimetype": "text/x-python",
   "name": "python",
   "nbconvert_exporter": "python",
   "pygments_lexer": "ipython3",
   "version": "3.11.3"
  }
 },
 "nbformat": 4,
 "nbformat_minor": 5
}
