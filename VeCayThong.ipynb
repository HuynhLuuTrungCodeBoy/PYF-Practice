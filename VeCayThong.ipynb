{
 "cells": [
  {
   "cell_type": "markdown",
   "id": "0ef3eb62-2d4c-44d6-91b9-bec465ea2c3c",
   "metadata": {},
   "source": [
    "# Cây thông của anh NGUYỄN TRUNG PHONG\n",
    "### cảm ơn anh đã đóng góp ý kiến."
   ]
  },
  {
   "cell_type": "code",
   "execution_count": null,
   "id": "11d61d4a-30f2-41a0-b1b4-04c0f3a8242e",
   "metadata": {},
   "outputs": [],
   "source": [
    "import turtle\n",
    "t=turtle.Turtle()\n",
    "\n",
    "t.pencolor(\"\")\n",
    "home_t = [180,-120]\n",
    "t.goto(home_t)\n",
    "t.pencolor(\"black\")\n",
    "distance = [30,30*(2**(1/2))]\n",
    "t.fillcolor(\"green\")\n",
    "t.begin_fill()\n",
    "for i in range(6):       # vẽ cây thông\n",
    "    t.fd(distance[i//3]) # sử dụng 6 vòng lặp cho 2 lần của 3 nhánh cây\n",
    "    t.lt(135)            # sử dụng phép chia lấy phần nguyên để truy suất \n",
    "    t.fd(distance[(i//3) - 1])# phần tử trong distance (dis[0],dis[-1],dis[1],dis[0])\n",
    "    t.rt(135)            # theo chiều tăng của i\n",
    "    if i == 2:\n",
    "        t.rt(135) # khi hết vòng lặp nó vẫn nhớ vị trí này thì phải???\n",
    "t.end_fill() \n",
    "t.fillcolor(\"brown\")     \n",
    "t.begin_fill()\n",
    "t.lt(135)   # để quay lại hướng ban đầu\n",
    "for j in range(2):      # vẽ chân cây thông (tương tự như vẽ cửa ra vào ngôi nhà)\n",
    "    for i in range(3):  # sử dụng vòng lặp để vẽ hình:\n",
    "        x = 30*(i%2+0.5) # kích thước phụ thuộc vào số vòng lặp và tính chẵn lẻ của i         \n",
    "        t.fd(x)         \n",
    "        t.rt(90)                 # vòng for 1 để tạo nửa khung dạng ] khi j =0 và [ khi j =1\n",
    "    j += 1                       # vòng for 2 để tạo 3 cạnh (1/2) hình chữ nhật [, ]\n",
    "    t.lt(90)\n",
    "t.end_fill()\n",
    "t.pencolor(\"\")\n",
    "t.home()\n",
    "turtle.done()"
   ]
  },
  {
   "cell_type": "markdown",
   "id": "e2de9f8d-d278-4c59-a80a-b116f1bd1f76",
   "metadata": {},
   "source": [
    "# Cây thông sau khi được mình tinh chỉnh từ bài anh Phong\n",
    "### Giảm bớt vòng FOR, thay đổi công thức, bỏ vài lệnh thừa, viết hàm cho phép đưa vào chiều cao, vị trí, màu."
   ]
  },
  {
   "cell_type": "code",
   "execution_count": null,
   "id": "a3f0dd88-4bce-4e38-93d9-b87a8863837e",
   "metadata": {},
   "outputs": [],
   "source": [
    "import turtle\n",
    "t=turtle.Turtle();t.hideturtle();t.speed(0)\n",
    "\n",
    "def draw_pine(height=100,x_coord=0,y_coord=0,leaf_color=\"green\",trunk_color=\"brown\",pen_color=\"black\"):# height_min=20. (smallest=10)\n",
    "    t.pencolor(pen_color);t.fillcolor(leaf_color)\n",
    "    unit=height/10;distance = [3*unit,3*unit*(2**(1/2))]    \n",
    "    \n",
    "    t.penup();t.goto(x_coord+unit,y_coord+4*unit);t.pendown()\n",
    "    \n",
    "    t.begin_fill()\n",
    "    for i in range(6):     \n",
    "        if i<3:\n",
    "            d=unit*i\n",
    "        else:\n",
    "            d=unit*(5%i)\n",
    "        t.fd(distance[i//3]-d);t.lt(135)            \n",
    "        t.fd(distance[(i//3) - 1]-d);t.rt(135)            \n",
    "        if i == 2:\n",
    "            t.rt(135) \n",
    "    t.end_fill() \n",
    "\n",
    "    t.fillcolor(trunk_color);t.begin_fill();t.lt(45)   \n",
    "    for i in range(4):  \n",
    "        x = (4*unit)//(i%2+1);t.fd(x);t.lt(90)\n",
    "    t.lt(90);\n",
    "    t.end_fill()\n",
    "    \n",
    "##### START #########\n",
    "draw_pine();draw_pine(20);draw_pine(60,-200,200)\n",
    "draw_pine(90,100,100,\"brown\");draw_pine(51,-250,0,\"brown\",\"gray\")\n",
    "draw_pine(200,100,-200,\"yellow\",\"blue\");draw_pine(300,-150,-200,\"orange\",\"black\")\n",
    "#####  END  #########\n",
    "\n",
    "turtle.done()"
   ]
  }
 ],
 "metadata": {
  "kernelspec": {
   "display_name": "Python 3 (ipykernel)",
   "language": "python",
   "name": "python3"
  },
  "language_info": {
   "codemirror_mode": {
    "name": "ipython",
    "version": 3
   },
   "file_extension": ".py",
   "mimetype": "text/x-python",
   "name": "python",
   "nbconvert_exporter": "python",
   "pygments_lexer": "ipython3",
   "version": "3.11.3"
  }
 },
 "nbformat": 4,
 "nbformat_minor": 5
}
