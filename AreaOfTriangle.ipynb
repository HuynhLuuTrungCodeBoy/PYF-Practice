{
 "cells": [
  {
   "cell_type": "code",
   "execution_count": 1,
   "id": "1a8d1d29-d171-47fd-8170-0e343f41d1f3",
   "metadata": {},
   "outputs": [],
   "source": [
    "# thêm thư viện math\n",
    "import math"
   ]
  },
  {
   "cell_type": "code",
   "execution_count": 2,
   "id": "871569cd-daf9-4b49-a55f-f18c98967d25",
   "metadata": {},
   "outputs": [
    {
     "name": "stdin",
     "output_type": "stream",
     "text": [
      "Enter the length of side a:  3\n",
      "Enter the length of side b:  4\n",
      "Enter the length of side c:  5\n"
     ]
    }
   ],
   "source": [
    "# nhập dữ liệu từ bàn phím và lưu vào 3 biến a, b, c\n",
    "a = float(input(\"Enter the length of side a: \"))\n",
    "b = float(input(\"Enter the length of side b: \"))\n",
    "c = float(input(\"Enter the length of side c: \"))"
   ]
  },
  {
   "cell_type": "code",
   "execution_count": 3,
   "id": "263b3fa9-2a8f-4df8-ab73-d51b99e18bcd",
   "metadata": {},
   "outputs": [],
   "source": [
    "# Tính diện tích tam giác \n",
    "s = (a+b+c)/2 # s là nữa chu vi tam giác\n",
    "area = math.sqrt(s*(s-a)*(s-b)*(s-c)) # area là diện tích tam giác"
   ]
  },
  {
   "cell_type": "code",
   "execution_count": 4,
   "id": "f291aebc-ef66-442e-a6bb-28626077aaa9",
   "metadata": {},
   "outputs": [
    {
     "name": "stdout",
     "output_type": "stream",
     "text": [
      " Area of the triangle is:  6.0\n"
     ]
    }
   ],
   "source": [
    "# In kết quả ra màn hình\n",
    "print(\" Area of the triangle is: \", area)"
   ]
  }
 ],
 "metadata": {
  "kernelspec": {
   "display_name": "Python 3 (ipykernel)",
   "language": "python",
   "name": "python3"
  },
  "language_info": {
   "codemirror_mode": {
    "name": "ipython",
    "version": 3
   },
   "file_extension": ".py",
   "mimetype": "text/x-python",
   "name": "python",
   "nbconvert_exporter": "python",
   "pygments_lexer": "ipython3",
   "version": "3.11.3"
  }
 },
 "nbformat": 4,
 "nbformat_minor": 5
}
