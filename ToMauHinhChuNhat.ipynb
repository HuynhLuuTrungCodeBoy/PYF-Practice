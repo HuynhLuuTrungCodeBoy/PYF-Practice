{
 "cells": [
  {
   "cell_type": "code",
   "execution_count": 6,
   "id": "22061b5c-decb-40ba-8874-823a2cfb16ac",
   "metadata": {},
   "outputs": [
    {
     "name": "stdin",
     "output_type": "stream",
     "text": [
      "Nhập màu hoặc mã màu:  Yellow\n",
      "Nhập chiều dài hình chữ nhật:  377\n",
      "Nhập chiều rộng hình chữ nhật:  144\n"
     ]
    },
    {
     "name": "stdout",
     "output_type": "stream",
     "text": [
      "Chu vi của hình chữ nhật (dài = 377.0, rộng = 144.0) là 1042.0\n",
      "Diện tích của hình chữ nhật (dài = 377.0, rộng = 144.0) là 54288.0\n"
     ]
    }
   ],
   "source": [
    "#Thêm thư viện\n",
    "import turtle\n",
    "\n",
    "#Nhập màu tô, chiều dài, chiều rộng\n",
    "color = input(\"Nhập màu hoặc mã màu: \")\n",
    "w = float(input(\"Nhập chiều dài hình chữ nhật: \"))\n",
    "h = float(input(\"Nhập chiều rộng hình chữ nhật: \"))\n",
    "\n",
    "#Vẽ hình chữ nhật, tô màu theo dữ liệu nhập vào\n",
    "t = turtle.Turtle() # khởi tạo đối tượng t là hình vẽ\n",
    "t.hideturtle() # ẩn icon rùa\n",
    "t.color(color) # đổi màu nét vẽ theo biến color do người dùng nhập.\n",
    "t.begin_fill() # BẮT ĐẦU VẼ\n",
    "t.forward(w) # vẽ tới để tạo cạnh trên với độ dài w được nhập từ bàn phím\n",
    "t.right(90) # rẽ phải 90 độ (quay mũi bút hướng xuống)\n",
    "t.forward(h) # vẽ tới để tạo bên phải với độ dài h nhập từ bàn phím\n",
    "t.right(90) # rẽ phải 90 độ (quay mũi bút hướng sang trái)\n",
    "t.forward(w) # vẽ tới đê tạo cạnh dưới bằng cạnh trên\n",
    "t.right(90) # rẽ phải 90 độ (quay mũi bút hướng lên trên)\n",
    "t.forward(h) # vẽ tới để tạo cạnh trái bằng cạnh phải\n",
    "t.end_fill() # KẾT THÚC VẼ\n",
    "turtle.done() # chờ bấm tắt cửa sổ\n",
    "\n",
    "#Tính chu vi, diện tích hình chữ nhật\n",
    "c=(w+h)*2\n",
    "s=w*h\n",
    "\n",
    "#Hiển thị kết quả\n",
    "print(\"Chu vi của hình chữ nhật (dài = {w}, rộng = {h}) là {c}\".format(w=w, h=h, c=c))\n",
    "print(\"Diện tích của hình chữ nhật (dài = {w}, rộng = {h}) là {s}\".format(w=w, h=h, s=s))\n"
   ]
  }
 ],
 "metadata": {
  "kernelspec": {
   "display_name": "Python 3 (ipykernel)",
   "language": "python",
   "name": "python3"
  },
  "language_info": {
   "codemirror_mode": {
    "name": "ipython",
    "version": 3
   },
   "file_extension": ".py",
   "mimetype": "text/x-python",
   "name": "python",
   "nbconvert_exporter": "python",
   "pygments_lexer": "ipython3",
   "version": "3.11.3"
  }
 },
 "nbformat": 4,
 "nbformat_minor": 5
}
