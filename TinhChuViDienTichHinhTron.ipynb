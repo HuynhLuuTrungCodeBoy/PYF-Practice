{
 "cells": [
  {
   "cell_type": "markdown",
   "id": "8ce16778-1557-400e-91c6-fb05e972e7c8",
   "metadata": {},
   "source": [
    "## Import các thư viện turtle, math"
   ]
  },
  {
   "cell_type": "code",
   "execution_count": 1,
   "id": "e216c0a3-6e81-44d2-a76b-645629a31870",
   "metadata": {},
   "outputs": [],
   "source": [
    "import turtle\n",
    "import math"
   ]
  },
  {
   "cell_type": "markdown",
   "id": "e28381e7-0f7b-4922-993a-3c17847834c8",
   "metadata": {},
   "source": [
    "## Nhập vào bán kính"
   ]
  },
  {
   "cell_type": "code",
   "execution_count": 2,
   "id": "b9cd80e4-2458-4273-8b24-2bd82416dced",
   "metadata": {},
   "outputs": [
    {
     "name": "stdin",
     "output_type": "stream",
     "text": [
      "Enter the radius:  100\n"
     ]
    }
   ],
   "source": [
    "r = float(input(\"Enter the radius: \"))"
   ]
  },
  {
   "cell_type": "markdown",
   "id": "e6c6a259-845a-4a19-b7b3-4d5920e8440c",
   "metadata": {},
   "source": [
    "## Vẽ đường tròn có bán kính đã nhập"
   ]
  },
  {
   "cell_type": "code",
   "execution_count": 3,
   "id": "05c13bd2-8c75-4847-a28c-af699f1d1364",
   "metadata": {},
   "outputs": [],
   "source": [
    "t=turtle.Turtle()\n",
    "t.hideturtle()\n",
    "t.pensize(1)\n",
    "t.color(\"Red\")\n",
    "t.penup()\n",
    "t.goto(0,0)\n",
    "t.pendown()\n",
    "t.circle(r)\n",
    "turtle.done()"
   ]
  },
  {
   "cell_type": "markdown",
   "id": "7df94106-9055-4aaf-a3e0-262a75c0eadc",
   "metadata": {},
   "source": [
    "## Tính chu vi diện tích hình tròn"
   ]
  },
  {
   "cell_type": "code",
   "execution_count": 9,
   "id": "babc3d8f-5e4b-4727-82e7-f3e78f23ffa2",
   "metadata": {},
   "outputs": [],
   "source": [
    "c = 2 * math.pi * r # tính chu vi\n",
    "s = math.pi * r * r # tính diện tích\n",
    "HinhTron=[r,c,s]"
   ]
  },
  {
   "cell_type": "markdown",
   "id": "781b5291-ed44-4ff1-a7df-c58ab8e45401",
   "metadata": {},
   "source": [
    "## Hiển thị kết quả"
   ]
  },
  {
   "cell_type": "code",
   "execution_count": 6,
   "id": "f70114d6-dc0e-46b7-b0a1-3cb6c2e62f6d",
   "metadata": {},
   "outputs": [
    {
     "name": "stdout",
     "output_type": "stream",
     "text": [
      "Chu vi của hình tròn có bán kính = 100.0 là 628.3185307179587\n",
      "Diện tích của hình tròn có bán kính = 100.0 là 31415.926535897932\n"
     ]
    }
   ],
   "source": [
    "print(\"Chu vi của hình tròn có bán kính = {r} là {c}\".format(r=r, c=c))\n",
    "print(\"Diện tích của hình tròn có bán kính = {r} là {s}\".format(r=r, s=s))"
   ]
  },
  {
   "cell_type": "code",
   "execution_count": 10,
   "id": "7964282c-d3f2-45cb-a71d-97c1809ddc4a",
   "metadata": {},
   "outputs": [
    {
     "name": "stdout",
     "output_type": "stream",
     "text": [
      "Chu vi của hình tròn có bán kính = 100.0 là 628.3185307179587\n",
      "Diện tích của hình tròn có bán kính = 100.0 là 31415.926535897932\n"
     ]
    }
   ],
   "source": [
    "print(\"Chu vi của hình tròn có bán kính = {0} là {1}\".format(*HinhTron))\n",
    "print(\"Diện tích của hình tròn có bán kính = {0} là {2}\".format(*HinhTron))"
   ]
  }
 ],
 "metadata": {
  "kernelspec": {
   "display_name": "Python 3 (ipykernel)",
   "language": "python",
   "name": "python3"
  },
  "language_info": {
   "codemirror_mode": {
    "name": "ipython",
    "version": 3
   },
   "file_extension": ".py",
   "mimetype": "text/x-python",
   "name": "python",
   "nbconvert_exporter": "python",
   "pygments_lexer": "ipython3",
   "version": "3.11.3"
  }
 },
 "nbformat": 4,
 "nbformat_minor": 5
}
